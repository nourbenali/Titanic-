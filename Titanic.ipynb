{
  "nbformat": 4,
  "nbformat_minor": 0,
  "metadata": {
    "colab": {
      "provenance": []
    },
    "kernelspec": {
      "name": "python3",
      "display_name": "Python 3"
    },
    "language_info": {
      "name": "python"
    }
  },
  "cells": [
    {
      "cell_type": "markdown",
      "source": [
        "# **Titanic - Machine Learning from Disaster Using Some Supervised Learning Methods**"
      ],
      "metadata": {
        "id": "xHItJcunICxp"
      }
    },
    {
      "cell_type": "markdown",
      "source": [
        "## **Data Importation**\n",
        "\n",
        "---\n",
        "\n"
      ],
      "metadata": {
        "id": "MN4UxdTVX2RB"
      }
    },
    {
      "cell_type": "code",
      "execution_count": 188,
      "metadata": {
        "id": "dHm_VDJfRLX_"
      },
      "outputs": [],
      "source": [
        "import numpy as np\n",
        "import pandas as pd\n",
        "import matplotlib.pyplot as plt\n",
        "import seaborn as sns\n",
        "from sklearn.linear_model import LogisticRegression\n",
        "from sklearn.ensemble import RandomForestClassifier\n",
        "from sklearn.neighbors import KNeighborsClassifier\n",
        "from sklearn.tree import DecisionTreeClassifier\n",
        "from sklearn import preprocessing\n",
        "from sklearn import svm\n",
        "from sklearn.model_selection import cross_val_score\n",
        "from sklearn import metrics\n",
        "from sklearn.metrics import confusion_matrix, plot_confusion_matrix ,f1_score, precision_score, recall_score\n",
        "import tensorflow as tf\n",
        "from tensorflow import keras\n",
        "from tensorflow.keras import Sequential \n",
        "from tensorflow.keras.layers import Dense,Activation\n",
        "from tensorflow.keras.utils import to_categorical"
      ]
    },
    {
      "cell_type": "code",
      "source": [
        "train=pd.read_csv(\"/content/train.csv\")\n",
        "test=pd.read_csv(\"/content/test.csv\")\n",
        "print(train.shape)\n",
        "print(test.shape)"
      ],
      "metadata": {
        "colab": {
          "base_uri": "https://localhost:8080/"
        },
        "id": "O_lkPxeFSkQr",
        "outputId": "e3b42d64-c293-4e04-939f-bbe9dbf3fb56"
      },
      "execution_count": 26,
      "outputs": [
        {
          "output_type": "stream",
          "name": "stdout",
          "text": [
            "(891, 12)\n",
            "(418, 11)\n"
          ]
        }
      ]
    },
    {
      "cell_type": "code",
      "source": [
        "train.head"
      ],
      "metadata": {
        "colab": {
          "base_uri": "https://localhost:8080/"
        },
        "id": "v-pjThY2S1FB",
        "outputId": "5cca7f94-1e05-46e9-8010-220389ae1328"
      },
      "execution_count": 4,
      "outputs": [
        {
          "output_type": "execute_result",
          "data": {
            "text/plain": [
              "<bound method NDFrame.head of      PassengerId  Survived  Pclass  \\\n",
              "0              1         0       3   \n",
              "1              2         1       1   \n",
              "2              3         1       3   \n",
              "3              4         1       1   \n",
              "4              5         0       3   \n",
              "..           ...       ...     ...   \n",
              "886          887         0       2   \n",
              "887          888         1       1   \n",
              "888          889         0       3   \n",
              "889          890         1       1   \n",
              "890          891         0       3   \n",
              "\n",
              "                                                  Name     Sex   Age  SibSp  \\\n",
              "0                              Braund, Mr. Owen Harris    male  22.0      1   \n",
              "1    Cumings, Mrs. John Bradley (Florence Briggs Th...  female  38.0      1   \n",
              "2                               Heikkinen, Miss. Laina  female  26.0      0   \n",
              "3         Futrelle, Mrs. Jacques Heath (Lily May Peel)  female  35.0      1   \n",
              "4                             Allen, Mr. William Henry    male  35.0      0   \n",
              "..                                                 ...     ...   ...    ...   \n",
              "886                              Montvila, Rev. Juozas    male  27.0      0   \n",
              "887                       Graham, Miss. Margaret Edith  female  19.0      0   \n",
              "888           Johnston, Miss. Catherine Helen \"Carrie\"  female   NaN      1   \n",
              "889                              Behr, Mr. Karl Howell    male  26.0      0   \n",
              "890                                Dooley, Mr. Patrick    male  32.0      0   \n",
              "\n",
              "     Parch            Ticket     Fare Cabin Embarked  \n",
              "0        0         A/5 21171   7.2500   NaN        S  \n",
              "1        0          PC 17599  71.2833   C85        C  \n",
              "2        0  STON/O2. 3101282   7.9250   NaN        S  \n",
              "3        0            113803  53.1000  C123        S  \n",
              "4        0            373450   8.0500   NaN        S  \n",
              "..     ...               ...      ...   ...      ...  \n",
              "886      0            211536  13.0000   NaN        S  \n",
              "887      0            112053  30.0000   B42        S  \n",
              "888      2        W./C. 6607  23.4500   NaN        S  \n",
              "889      0            111369  30.0000  C148        C  \n",
              "890      0            370376   7.7500   NaN        Q  \n",
              "\n",
              "[891 rows x 12 columns]>"
            ]
          },
          "metadata": {},
          "execution_count": 4
        }
      ]
    },
    {
      "cell_type": "code",
      "source": [
        "test.head"
      ],
      "metadata": {
        "colab": {
          "base_uri": "https://localhost:8080/"
        },
        "id": "KZ0rZoy2YQKB",
        "outputId": "293a9b99-c4dc-4143-a79d-ffd45f999ddd"
      },
      "execution_count": 5,
      "outputs": [
        {
          "output_type": "execute_result",
          "data": {
            "text/plain": [
              "<bound method NDFrame.head of      PassengerId  Pclass                                          Name  \\\n",
              "0            892       3                              Kelly, Mr. James   \n",
              "1            893       3              Wilkes, Mrs. James (Ellen Needs)   \n",
              "2            894       2                     Myles, Mr. Thomas Francis   \n",
              "3            895       3                              Wirz, Mr. Albert   \n",
              "4            896       3  Hirvonen, Mrs. Alexander (Helga E Lindqvist)   \n",
              "..           ...     ...                                           ...   \n",
              "413         1305       3                            Spector, Mr. Woolf   \n",
              "414         1306       1                  Oliva y Ocana, Dona. Fermina   \n",
              "415         1307       3                  Saether, Mr. Simon Sivertsen   \n",
              "416         1308       3                           Ware, Mr. Frederick   \n",
              "417         1309       3                      Peter, Master. Michael J   \n",
              "\n",
              "        Sex   Age  SibSp  Parch              Ticket      Fare Cabin Embarked  \n",
              "0      male  34.5      0      0              330911    7.8292   NaN        Q  \n",
              "1    female  47.0      1      0              363272    7.0000   NaN        S  \n",
              "2      male  62.0      0      0              240276    9.6875   NaN        Q  \n",
              "3      male  27.0      0      0              315154    8.6625   NaN        S  \n",
              "4    female  22.0      1      1             3101298   12.2875   NaN        S  \n",
              "..      ...   ...    ...    ...                 ...       ...   ...      ...  \n",
              "413    male   NaN      0      0           A.5. 3236    8.0500   NaN        S  \n",
              "414  female  39.0      0      0            PC 17758  108.9000  C105        C  \n",
              "415    male  38.5      0      0  SOTON/O.Q. 3101262    7.2500   NaN        S  \n",
              "416    male   NaN      0      0              359309    8.0500   NaN        S  \n",
              "417    male   NaN      1      1                2668   22.3583   NaN        C  \n",
              "\n",
              "[418 rows x 11 columns]>"
            ]
          },
          "metadata": {},
          "execution_count": 5
        }
      ]
    },
    {
      "cell_type": "code",
      "source": [
        "train.describe()"
      ],
      "metadata": {
        "colab": {
          "base_uri": "https://localhost:8080/",
          "height": 295
        },
        "id": "MVrwXYOuS1O2",
        "outputId": "d7154aa9-554e-4439-ab58-4ad8959ed4ac"
      },
      "execution_count": 6,
      "outputs": [
        {
          "output_type": "execute_result",
          "data": {
            "text/plain": [
              "       PassengerId    Survived      Pclass         Age       SibSp  \\\n",
              "count   891.000000  891.000000  891.000000  714.000000  891.000000   \n",
              "mean    446.000000    0.383838    2.308642   29.699118    0.523008   \n",
              "std     257.353842    0.486592    0.836071   14.526497    1.102743   \n",
              "min       1.000000    0.000000    1.000000    0.420000    0.000000   \n",
              "25%     223.500000    0.000000    2.000000   20.125000    0.000000   \n",
              "50%     446.000000    0.000000    3.000000   28.000000    0.000000   \n",
              "75%     668.500000    1.000000    3.000000   38.000000    1.000000   \n",
              "max     891.000000    1.000000    3.000000   80.000000    8.000000   \n",
              "\n",
              "            Parch        Fare  \n",
              "count  891.000000  891.000000  \n",
              "mean     0.381594   32.204208  \n",
              "std      0.806057   49.693429  \n",
              "min      0.000000    0.000000  \n",
              "25%      0.000000    7.910400  \n",
              "50%      0.000000   14.454200  \n",
              "75%      0.000000   31.000000  \n",
              "max      6.000000  512.329200  "
            ],
            "text/html": [
              "\n",
              "  <div id=\"df-f9f22f50-ad0e-4981-b4fb-64813f09e7f7\">\n",
              "    <div class=\"colab-df-container\">\n",
              "      <div>\n",
              "<style scoped>\n",
              "    .dataframe tbody tr th:only-of-type {\n",
              "        vertical-align: middle;\n",
              "    }\n",
              "\n",
              "    .dataframe tbody tr th {\n",
              "        vertical-align: top;\n",
              "    }\n",
              "\n",
              "    .dataframe thead th {\n",
              "        text-align: right;\n",
              "    }\n",
              "</style>\n",
              "<table border=\"1\" class=\"dataframe\">\n",
              "  <thead>\n",
              "    <tr style=\"text-align: right;\">\n",
              "      <th></th>\n",
              "      <th>PassengerId</th>\n",
              "      <th>Survived</th>\n",
              "      <th>Pclass</th>\n",
              "      <th>Age</th>\n",
              "      <th>SibSp</th>\n",
              "      <th>Parch</th>\n",
              "      <th>Fare</th>\n",
              "    </tr>\n",
              "  </thead>\n",
              "  <tbody>\n",
              "    <tr>\n",
              "      <th>count</th>\n",
              "      <td>891.000000</td>\n",
              "      <td>891.000000</td>\n",
              "      <td>891.000000</td>\n",
              "      <td>714.000000</td>\n",
              "      <td>891.000000</td>\n",
              "      <td>891.000000</td>\n",
              "      <td>891.000000</td>\n",
              "    </tr>\n",
              "    <tr>\n",
              "      <th>mean</th>\n",
              "      <td>446.000000</td>\n",
              "      <td>0.383838</td>\n",
              "      <td>2.308642</td>\n",
              "      <td>29.699118</td>\n",
              "      <td>0.523008</td>\n",
              "      <td>0.381594</td>\n",
              "      <td>32.204208</td>\n",
              "    </tr>\n",
              "    <tr>\n",
              "      <th>std</th>\n",
              "      <td>257.353842</td>\n",
              "      <td>0.486592</td>\n",
              "      <td>0.836071</td>\n",
              "      <td>14.526497</td>\n",
              "      <td>1.102743</td>\n",
              "      <td>0.806057</td>\n",
              "      <td>49.693429</td>\n",
              "    </tr>\n",
              "    <tr>\n",
              "      <th>min</th>\n",
              "      <td>1.000000</td>\n",
              "      <td>0.000000</td>\n",
              "      <td>1.000000</td>\n",
              "      <td>0.420000</td>\n",
              "      <td>0.000000</td>\n",
              "      <td>0.000000</td>\n",
              "      <td>0.000000</td>\n",
              "    </tr>\n",
              "    <tr>\n",
              "      <th>25%</th>\n",
              "      <td>223.500000</td>\n",
              "      <td>0.000000</td>\n",
              "      <td>2.000000</td>\n",
              "      <td>20.125000</td>\n",
              "      <td>0.000000</td>\n",
              "      <td>0.000000</td>\n",
              "      <td>7.910400</td>\n",
              "    </tr>\n",
              "    <tr>\n",
              "      <th>50%</th>\n",
              "      <td>446.000000</td>\n",
              "      <td>0.000000</td>\n",
              "      <td>3.000000</td>\n",
              "      <td>28.000000</td>\n",
              "      <td>0.000000</td>\n",
              "      <td>0.000000</td>\n",
              "      <td>14.454200</td>\n",
              "    </tr>\n",
              "    <tr>\n",
              "      <th>75%</th>\n",
              "      <td>668.500000</td>\n",
              "      <td>1.000000</td>\n",
              "      <td>3.000000</td>\n",
              "      <td>38.000000</td>\n",
              "      <td>1.000000</td>\n",
              "      <td>0.000000</td>\n",
              "      <td>31.000000</td>\n",
              "    </tr>\n",
              "    <tr>\n",
              "      <th>max</th>\n",
              "      <td>891.000000</td>\n",
              "      <td>1.000000</td>\n",
              "      <td>3.000000</td>\n",
              "      <td>80.000000</td>\n",
              "      <td>8.000000</td>\n",
              "      <td>6.000000</td>\n",
              "      <td>512.329200</td>\n",
              "    </tr>\n",
              "  </tbody>\n",
              "</table>\n",
              "</div>\n",
              "      <button class=\"colab-df-convert\" onclick=\"convertToInteractive('df-f9f22f50-ad0e-4981-b4fb-64813f09e7f7')\"\n",
              "              title=\"Convert this dataframe to an interactive table.\"\n",
              "              style=\"display:none;\">\n",
              "        \n",
              "  <svg xmlns=\"http://www.w3.org/2000/svg\" height=\"24px\"viewBox=\"0 0 24 24\"\n",
              "       width=\"24px\">\n",
              "    <path d=\"M0 0h24v24H0V0z\" fill=\"none\"/>\n",
              "    <path d=\"M18.56 5.44l.94 2.06.94-2.06 2.06-.94-2.06-.94-.94-2.06-.94 2.06-2.06.94zm-11 1L8.5 8.5l.94-2.06 2.06-.94-2.06-.94L8.5 2.5l-.94 2.06-2.06.94zm10 10l.94 2.06.94-2.06 2.06-.94-2.06-.94-.94-2.06-.94 2.06-2.06.94z\"/><path d=\"M17.41 7.96l-1.37-1.37c-.4-.4-.92-.59-1.43-.59-.52 0-1.04.2-1.43.59L10.3 9.45l-7.72 7.72c-.78.78-.78 2.05 0 2.83L4 21.41c.39.39.9.59 1.41.59.51 0 1.02-.2 1.41-.59l7.78-7.78 2.81-2.81c.8-.78.8-2.07 0-2.86zM5.41 20L4 18.59l7.72-7.72 1.47 1.35L5.41 20z\"/>\n",
              "  </svg>\n",
              "      </button>\n",
              "      \n",
              "  <style>\n",
              "    .colab-df-container {\n",
              "      display:flex;\n",
              "      flex-wrap:wrap;\n",
              "      gap: 12px;\n",
              "    }\n",
              "\n",
              "    .colab-df-convert {\n",
              "      background-color: #E8F0FE;\n",
              "      border: none;\n",
              "      border-radius: 50%;\n",
              "      cursor: pointer;\n",
              "      display: none;\n",
              "      fill: #1967D2;\n",
              "      height: 32px;\n",
              "      padding: 0 0 0 0;\n",
              "      width: 32px;\n",
              "    }\n",
              "\n",
              "    .colab-df-convert:hover {\n",
              "      background-color: #E2EBFA;\n",
              "      box-shadow: 0px 1px 2px rgba(60, 64, 67, 0.3), 0px 1px 3px 1px rgba(60, 64, 67, 0.15);\n",
              "      fill: #174EA6;\n",
              "    }\n",
              "\n",
              "    [theme=dark] .colab-df-convert {\n",
              "      background-color: #3B4455;\n",
              "      fill: #D2E3FC;\n",
              "    }\n",
              "\n",
              "    [theme=dark] .colab-df-convert:hover {\n",
              "      background-color: #434B5C;\n",
              "      box-shadow: 0px 1px 3px 1px rgba(0, 0, 0, 0.15);\n",
              "      filter: drop-shadow(0px 1px 2px rgba(0, 0, 0, 0.3));\n",
              "      fill: #FFFFFF;\n",
              "    }\n",
              "  </style>\n",
              "\n",
              "      <script>\n",
              "        const buttonEl =\n",
              "          document.querySelector('#df-f9f22f50-ad0e-4981-b4fb-64813f09e7f7 button.colab-df-convert');\n",
              "        buttonEl.style.display =\n",
              "          google.colab.kernel.accessAllowed ? 'block' : 'none';\n",
              "\n",
              "        async function convertToInteractive(key) {\n",
              "          const element = document.querySelector('#df-f9f22f50-ad0e-4981-b4fb-64813f09e7f7');\n",
              "          const dataTable =\n",
              "            await google.colab.kernel.invokeFunction('convertToInteractive',\n",
              "                                                     [key], {});\n",
              "          if (!dataTable) return;\n",
              "\n",
              "          const docLinkHtml = 'Like what you see? Visit the ' +\n",
              "            '<a target=\"_blank\" href=https://colab.research.google.com/notebooks/data_table.ipynb>data table notebook</a>'\n",
              "            + ' to learn more about interactive tables.';\n",
              "          element.innerHTML = '';\n",
              "          dataTable['output_type'] = 'display_data';\n",
              "          await google.colab.output.renderOutput(dataTable, element);\n",
              "          const docLink = document.createElement('div');\n",
              "          docLink.innerHTML = docLinkHtml;\n",
              "          element.appendChild(docLink);\n",
              "        }\n",
              "      </script>\n",
              "    </div>\n",
              "  </div>\n",
              "  "
            ]
          },
          "metadata": {},
          "execution_count": 6
        }
      ]
    },
    {
      "cell_type": "code",
      "source": [
        "test.describe()"
      ],
      "metadata": {
        "colab": {
          "base_uri": "https://localhost:8080/",
          "height": 295
        },
        "id": "wLQewbZwYZk8",
        "outputId": "cc0ab6c2-0705-4900-8ca9-18cff682a77b"
      },
      "execution_count": 7,
      "outputs": [
        {
          "output_type": "execute_result",
          "data": {
            "text/plain": [
              "       PassengerId      Pclass         Age       SibSp       Parch        Fare\n",
              "count   418.000000  418.000000  332.000000  418.000000  418.000000  417.000000\n",
              "mean   1100.500000    2.265550   30.272590    0.447368    0.392344   35.627188\n",
              "std     120.810458    0.841838   14.181209    0.896760    0.981429   55.907576\n",
              "min     892.000000    1.000000    0.170000    0.000000    0.000000    0.000000\n",
              "25%     996.250000    1.000000   21.000000    0.000000    0.000000    7.895800\n",
              "50%    1100.500000    3.000000   27.000000    0.000000    0.000000   14.454200\n",
              "75%    1204.750000    3.000000   39.000000    1.000000    0.000000   31.500000\n",
              "max    1309.000000    3.000000   76.000000    8.000000    9.000000  512.329200"
            ],
            "text/html": [
              "\n",
              "  <div id=\"df-4fe64fc3-2e81-454b-b807-2341f9518f39\">\n",
              "    <div class=\"colab-df-container\">\n",
              "      <div>\n",
              "<style scoped>\n",
              "    .dataframe tbody tr th:only-of-type {\n",
              "        vertical-align: middle;\n",
              "    }\n",
              "\n",
              "    .dataframe tbody tr th {\n",
              "        vertical-align: top;\n",
              "    }\n",
              "\n",
              "    .dataframe thead th {\n",
              "        text-align: right;\n",
              "    }\n",
              "</style>\n",
              "<table border=\"1\" class=\"dataframe\">\n",
              "  <thead>\n",
              "    <tr style=\"text-align: right;\">\n",
              "      <th></th>\n",
              "      <th>PassengerId</th>\n",
              "      <th>Pclass</th>\n",
              "      <th>Age</th>\n",
              "      <th>SibSp</th>\n",
              "      <th>Parch</th>\n",
              "      <th>Fare</th>\n",
              "    </tr>\n",
              "  </thead>\n",
              "  <tbody>\n",
              "    <tr>\n",
              "      <th>count</th>\n",
              "      <td>418.000000</td>\n",
              "      <td>418.000000</td>\n",
              "      <td>332.000000</td>\n",
              "      <td>418.000000</td>\n",
              "      <td>418.000000</td>\n",
              "      <td>417.000000</td>\n",
              "    </tr>\n",
              "    <tr>\n",
              "      <th>mean</th>\n",
              "      <td>1100.500000</td>\n",
              "      <td>2.265550</td>\n",
              "      <td>30.272590</td>\n",
              "      <td>0.447368</td>\n",
              "      <td>0.392344</td>\n",
              "      <td>35.627188</td>\n",
              "    </tr>\n",
              "    <tr>\n",
              "      <th>std</th>\n",
              "      <td>120.810458</td>\n",
              "      <td>0.841838</td>\n",
              "      <td>14.181209</td>\n",
              "      <td>0.896760</td>\n",
              "      <td>0.981429</td>\n",
              "      <td>55.907576</td>\n",
              "    </tr>\n",
              "    <tr>\n",
              "      <th>min</th>\n",
              "      <td>892.000000</td>\n",
              "      <td>1.000000</td>\n",
              "      <td>0.170000</td>\n",
              "      <td>0.000000</td>\n",
              "      <td>0.000000</td>\n",
              "      <td>0.000000</td>\n",
              "    </tr>\n",
              "    <tr>\n",
              "      <th>25%</th>\n",
              "      <td>996.250000</td>\n",
              "      <td>1.000000</td>\n",
              "      <td>21.000000</td>\n",
              "      <td>0.000000</td>\n",
              "      <td>0.000000</td>\n",
              "      <td>7.895800</td>\n",
              "    </tr>\n",
              "    <tr>\n",
              "      <th>50%</th>\n",
              "      <td>1100.500000</td>\n",
              "      <td>3.000000</td>\n",
              "      <td>27.000000</td>\n",
              "      <td>0.000000</td>\n",
              "      <td>0.000000</td>\n",
              "      <td>14.454200</td>\n",
              "    </tr>\n",
              "    <tr>\n",
              "      <th>75%</th>\n",
              "      <td>1204.750000</td>\n",
              "      <td>3.000000</td>\n",
              "      <td>39.000000</td>\n",
              "      <td>1.000000</td>\n",
              "      <td>0.000000</td>\n",
              "      <td>31.500000</td>\n",
              "    </tr>\n",
              "    <tr>\n",
              "      <th>max</th>\n",
              "      <td>1309.000000</td>\n",
              "      <td>3.000000</td>\n",
              "      <td>76.000000</td>\n",
              "      <td>8.000000</td>\n",
              "      <td>9.000000</td>\n",
              "      <td>512.329200</td>\n",
              "    </tr>\n",
              "  </tbody>\n",
              "</table>\n",
              "</div>\n",
              "      <button class=\"colab-df-convert\" onclick=\"convertToInteractive('df-4fe64fc3-2e81-454b-b807-2341f9518f39')\"\n",
              "              title=\"Convert this dataframe to an interactive table.\"\n",
              "              style=\"display:none;\">\n",
              "        \n",
              "  <svg xmlns=\"http://www.w3.org/2000/svg\" height=\"24px\"viewBox=\"0 0 24 24\"\n",
              "       width=\"24px\">\n",
              "    <path d=\"M0 0h24v24H0V0z\" fill=\"none\"/>\n",
              "    <path d=\"M18.56 5.44l.94 2.06.94-2.06 2.06-.94-2.06-.94-.94-2.06-.94 2.06-2.06.94zm-11 1L8.5 8.5l.94-2.06 2.06-.94-2.06-.94L8.5 2.5l-.94 2.06-2.06.94zm10 10l.94 2.06.94-2.06 2.06-.94-2.06-.94-.94-2.06-.94 2.06-2.06.94z\"/><path d=\"M17.41 7.96l-1.37-1.37c-.4-.4-.92-.59-1.43-.59-.52 0-1.04.2-1.43.59L10.3 9.45l-7.72 7.72c-.78.78-.78 2.05 0 2.83L4 21.41c.39.39.9.59 1.41.59.51 0 1.02-.2 1.41-.59l7.78-7.78 2.81-2.81c.8-.78.8-2.07 0-2.86zM5.41 20L4 18.59l7.72-7.72 1.47 1.35L5.41 20z\"/>\n",
              "  </svg>\n",
              "      </button>\n",
              "      \n",
              "  <style>\n",
              "    .colab-df-container {\n",
              "      display:flex;\n",
              "      flex-wrap:wrap;\n",
              "      gap: 12px;\n",
              "    }\n",
              "\n",
              "    .colab-df-convert {\n",
              "      background-color: #E8F0FE;\n",
              "      border: none;\n",
              "      border-radius: 50%;\n",
              "      cursor: pointer;\n",
              "      display: none;\n",
              "      fill: #1967D2;\n",
              "      height: 32px;\n",
              "      padding: 0 0 0 0;\n",
              "      width: 32px;\n",
              "    }\n",
              "\n",
              "    .colab-df-convert:hover {\n",
              "      background-color: #E2EBFA;\n",
              "      box-shadow: 0px 1px 2px rgba(60, 64, 67, 0.3), 0px 1px 3px 1px rgba(60, 64, 67, 0.15);\n",
              "      fill: #174EA6;\n",
              "    }\n",
              "\n",
              "    [theme=dark] .colab-df-convert {\n",
              "      background-color: #3B4455;\n",
              "      fill: #D2E3FC;\n",
              "    }\n",
              "\n",
              "    [theme=dark] .colab-df-convert:hover {\n",
              "      background-color: #434B5C;\n",
              "      box-shadow: 0px 1px 3px 1px rgba(0, 0, 0, 0.15);\n",
              "      filter: drop-shadow(0px 1px 2px rgba(0, 0, 0, 0.3));\n",
              "      fill: #FFFFFF;\n",
              "    }\n",
              "  </style>\n",
              "\n",
              "      <script>\n",
              "        const buttonEl =\n",
              "          document.querySelector('#df-4fe64fc3-2e81-454b-b807-2341f9518f39 button.colab-df-convert');\n",
              "        buttonEl.style.display =\n",
              "          google.colab.kernel.accessAllowed ? 'block' : 'none';\n",
              "\n",
              "        async function convertToInteractive(key) {\n",
              "          const element = document.querySelector('#df-4fe64fc3-2e81-454b-b807-2341f9518f39');\n",
              "          const dataTable =\n",
              "            await google.colab.kernel.invokeFunction('convertToInteractive',\n",
              "                                                     [key], {});\n",
              "          if (!dataTable) return;\n",
              "\n",
              "          const docLinkHtml = 'Like what you see? Visit the ' +\n",
              "            '<a target=\"_blank\" href=https://colab.research.google.com/notebooks/data_table.ipynb>data table notebook</a>'\n",
              "            + ' to learn more about interactive tables.';\n",
              "          element.innerHTML = '';\n",
              "          dataTable['output_type'] = 'display_data';\n",
              "          await google.colab.output.renderOutput(dataTable, element);\n",
              "          const docLink = document.createElement('div');\n",
              "          docLink.innerHTML = docLinkHtml;\n",
              "          element.appendChild(docLink);\n",
              "        }\n",
              "      </script>\n",
              "    </div>\n",
              "  </div>\n",
              "  "
            ]
          },
          "metadata": {},
          "execution_count": 7
        }
      ]
    },
    {
      "cell_type": "markdown",
      "source": [
        "## **Data Preparation**"
      ],
      "metadata": {
        "id": "aQ4xx_XEYetJ"
      }
    },
    {
      "cell_type": "code",
      "source": [
        "train.dtypes"
      ],
      "metadata": {
        "colab": {
          "base_uri": "https://localhost:8080/"
        },
        "id": "rH6Mto4XYmVn",
        "outputId": "77dabe39-8d01-4b79-e2b3-eccb0d6b3a58"
      },
      "execution_count": 8,
      "outputs": [
        {
          "output_type": "execute_result",
          "data": {
            "text/plain": [
              "PassengerId      int64\n",
              "Survived         int64\n",
              "Pclass           int64\n",
              "Name            object\n",
              "Sex             object\n",
              "Age            float64\n",
              "SibSp            int64\n",
              "Parch            int64\n",
              "Ticket          object\n",
              "Fare           float64\n",
              "Cabin           object\n",
              "Embarked        object\n",
              "dtype: object"
            ]
          },
          "metadata": {},
          "execution_count": 8
        }
      ]
    },
    {
      "cell_type": "code",
      "source": [
        "test.dtypes"
      ],
      "metadata": {
        "colab": {
          "base_uri": "https://localhost:8080/"
        },
        "id": "-ieI-V_jYqzU",
        "outputId": "89c8d780-43b7-49a9-986f-97c7d83e9c8f"
      },
      "execution_count": 9,
      "outputs": [
        {
          "output_type": "execute_result",
          "data": {
            "text/plain": [
              "PassengerId      int64\n",
              "Pclass           int64\n",
              "Name            object\n",
              "Sex             object\n",
              "Age            float64\n",
              "SibSp            int64\n",
              "Parch            int64\n",
              "Ticket          object\n",
              "Fare           float64\n",
              "Cabin           object\n",
              "Embarked        object\n",
              "dtype: object"
            ]
          },
          "metadata": {},
          "execution_count": 9
        }
      ]
    },
    {
      "cell_type": "code",
      "source": [
        "train.isnull().sum()"
      ],
      "metadata": {
        "colab": {
          "base_uri": "https://localhost:8080/"
        },
        "id": "J_tROFPMYtDl",
        "outputId": "5fd82cd9-36f8-4784-9891-d9888c8eda14"
      },
      "execution_count": 10,
      "outputs": [
        {
          "output_type": "execute_result",
          "data": {
            "text/plain": [
              "PassengerId      0\n",
              "Survived         0\n",
              "Pclass           0\n",
              "Name             0\n",
              "Sex              0\n",
              "Age            177\n",
              "SibSp            0\n",
              "Parch            0\n",
              "Ticket           0\n",
              "Fare             0\n",
              "Cabin          687\n",
              "Embarked         2\n",
              "dtype: int64"
            ]
          },
          "metadata": {},
          "execution_count": 10
        }
      ]
    },
    {
      "cell_type": "code",
      "source": [
        "test.isnull().sum()"
      ],
      "metadata": {
        "colab": {
          "base_uri": "https://localhost:8080/"
        },
        "id": "gXpwtwW3YyhT",
        "outputId": "c0c5f862-500c-4409-e87e-32e67343f395"
      },
      "execution_count": 11,
      "outputs": [
        {
          "output_type": "execute_result",
          "data": {
            "text/plain": [
              "PassengerId      0\n",
              "Pclass           0\n",
              "Name             0\n",
              "Sex              0\n",
              "Age             86\n",
              "SibSp            0\n",
              "Parch            0\n",
              "Ticket           0\n",
              "Fare             1\n",
              "Cabin          327\n",
              "Embarked         0\n",
              "dtype: int64"
            ]
          },
          "metadata": {},
          "execution_count": 11
        }
      ]
    },
    {
      "cell_type": "code",
      "source": [
        "#Dropping the unecessary columns\n",
        "train.drop(['PassengerId', 'Ticket','Cabin'], axis=1, inplace=True)\n",
        "test.drop(['Ticket','Cabin'], axis=1, inplace=True)"
      ],
      "metadata": {
        "id": "t8jGwHgB6uMZ"
      },
      "execution_count": 27,
      "outputs": []
    },
    {
      "cell_type": "code",
      "source": [
        "#Fixing the missing values\n",
        "train.dropna(subset=['Embarked'], inplace = True)\n",
        "test.fillna(value = test['Fare'].median(), inplace = True)\n",
        "train.fillna(value = train[\"Age\"].median(),inplace = True)\n",
        "test.fillna(value = test[\"Age\"].median(), inplace = True)"
      ],
      "metadata": {
        "id": "6LLzd2PDY2KY"
      },
      "execution_count": 28,
      "outputs": []
    },
    {
      "cell_type": "code",
      "source": [
        "train.isnull().sum()"
      ],
      "metadata": {
        "colab": {
          "base_uri": "https://localhost:8080/"
        },
        "id": "cjSeUp9sZTZE",
        "outputId": "82325e75-23c2-429c-a3c2-03460e120f43"
      },
      "execution_count": 14,
      "outputs": [
        {
          "output_type": "execute_result",
          "data": {
            "text/plain": [
              "Survived    0\n",
              "Pclass      0\n",
              "Name        0\n",
              "Sex         0\n",
              "Age         0\n",
              "SibSp       0\n",
              "Parch       0\n",
              "Fare        0\n",
              "Embarked    0\n",
              "dtype: int64"
            ]
          },
          "metadata": {},
          "execution_count": 14
        }
      ]
    },
    {
      "cell_type": "code",
      "source": [
        "test.isnull().sum()"
      ],
      "metadata": {
        "colab": {
          "base_uri": "https://localhost:8080/"
        },
        "id": "I6iyVA4GZTap",
        "outputId": "be041e3b-8794-4893-d3df-e39557436850"
      },
      "execution_count": 15,
      "outputs": [
        {
          "output_type": "execute_result",
          "data": {
            "text/plain": [
              "PassengerId    0\n",
              "Pclass         0\n",
              "Name           0\n",
              "Sex            0\n",
              "Age            0\n",
              "SibSp          0\n",
              "Parch          0\n",
              "Fare           0\n",
              "Embarked       0\n",
              "dtype: int64"
            ]
          },
          "metadata": {},
          "execution_count": 15
        }
      ]
    },
    {
      "cell_type": "code",
      "source": [
        "train.describe()"
      ],
      "metadata": {
        "colab": {
          "base_uri": "https://localhost:8080/",
          "height": 295
        },
        "id": "pgGD2oJsA1x_",
        "outputId": "1a0ad9f0-0ba9-4ace-8ea8-8b5e4e546c21"
      },
      "execution_count": 16,
      "outputs": [
        {
          "output_type": "execute_result",
          "data": {
            "text/plain": [
              "         Survived      Pclass         Age       SibSp       Parch        Fare\n",
              "count  889.000000  889.000000  889.000000  889.000000  889.000000  889.000000\n",
              "mean     0.382452    2.311586   29.315152    0.524184    0.382452   32.096681\n",
              "std      0.486260    0.834700   12.984932    1.103705    0.806761   49.697504\n",
              "min      0.000000    1.000000    0.420000    0.000000    0.000000    0.000000\n",
              "25%      0.000000    2.000000   22.000000    0.000000    0.000000    7.895800\n",
              "50%      0.000000    3.000000   28.000000    0.000000    0.000000   14.454200\n",
              "75%      1.000000    3.000000   35.000000    1.000000    0.000000   31.000000\n",
              "max      1.000000    3.000000   80.000000    8.000000    6.000000  512.329200"
            ],
            "text/html": [
              "\n",
              "  <div id=\"df-2915384b-97ba-4810-a1c0-e83b11d5de63\">\n",
              "    <div class=\"colab-df-container\">\n",
              "      <div>\n",
              "<style scoped>\n",
              "    .dataframe tbody tr th:only-of-type {\n",
              "        vertical-align: middle;\n",
              "    }\n",
              "\n",
              "    .dataframe tbody tr th {\n",
              "        vertical-align: top;\n",
              "    }\n",
              "\n",
              "    .dataframe thead th {\n",
              "        text-align: right;\n",
              "    }\n",
              "</style>\n",
              "<table border=\"1\" class=\"dataframe\">\n",
              "  <thead>\n",
              "    <tr style=\"text-align: right;\">\n",
              "      <th></th>\n",
              "      <th>Survived</th>\n",
              "      <th>Pclass</th>\n",
              "      <th>Age</th>\n",
              "      <th>SibSp</th>\n",
              "      <th>Parch</th>\n",
              "      <th>Fare</th>\n",
              "    </tr>\n",
              "  </thead>\n",
              "  <tbody>\n",
              "    <tr>\n",
              "      <th>count</th>\n",
              "      <td>889.000000</td>\n",
              "      <td>889.000000</td>\n",
              "      <td>889.000000</td>\n",
              "      <td>889.000000</td>\n",
              "      <td>889.000000</td>\n",
              "      <td>889.000000</td>\n",
              "    </tr>\n",
              "    <tr>\n",
              "      <th>mean</th>\n",
              "      <td>0.382452</td>\n",
              "      <td>2.311586</td>\n",
              "      <td>29.315152</td>\n",
              "      <td>0.524184</td>\n",
              "      <td>0.382452</td>\n",
              "      <td>32.096681</td>\n",
              "    </tr>\n",
              "    <tr>\n",
              "      <th>std</th>\n",
              "      <td>0.486260</td>\n",
              "      <td>0.834700</td>\n",
              "      <td>12.984932</td>\n",
              "      <td>1.103705</td>\n",
              "      <td>0.806761</td>\n",
              "      <td>49.697504</td>\n",
              "    </tr>\n",
              "    <tr>\n",
              "      <th>min</th>\n",
              "      <td>0.000000</td>\n",
              "      <td>1.000000</td>\n",
              "      <td>0.420000</td>\n",
              "      <td>0.000000</td>\n",
              "      <td>0.000000</td>\n",
              "      <td>0.000000</td>\n",
              "    </tr>\n",
              "    <tr>\n",
              "      <th>25%</th>\n",
              "      <td>0.000000</td>\n",
              "      <td>2.000000</td>\n",
              "      <td>22.000000</td>\n",
              "      <td>0.000000</td>\n",
              "      <td>0.000000</td>\n",
              "      <td>7.895800</td>\n",
              "    </tr>\n",
              "    <tr>\n",
              "      <th>50%</th>\n",
              "      <td>0.000000</td>\n",
              "      <td>3.000000</td>\n",
              "      <td>28.000000</td>\n",
              "      <td>0.000000</td>\n",
              "      <td>0.000000</td>\n",
              "      <td>14.454200</td>\n",
              "    </tr>\n",
              "    <tr>\n",
              "      <th>75%</th>\n",
              "      <td>1.000000</td>\n",
              "      <td>3.000000</td>\n",
              "      <td>35.000000</td>\n",
              "      <td>1.000000</td>\n",
              "      <td>0.000000</td>\n",
              "      <td>31.000000</td>\n",
              "    </tr>\n",
              "    <tr>\n",
              "      <th>max</th>\n",
              "      <td>1.000000</td>\n",
              "      <td>3.000000</td>\n",
              "      <td>80.000000</td>\n",
              "      <td>8.000000</td>\n",
              "      <td>6.000000</td>\n",
              "      <td>512.329200</td>\n",
              "    </tr>\n",
              "  </tbody>\n",
              "</table>\n",
              "</div>\n",
              "      <button class=\"colab-df-convert\" onclick=\"convertToInteractive('df-2915384b-97ba-4810-a1c0-e83b11d5de63')\"\n",
              "              title=\"Convert this dataframe to an interactive table.\"\n",
              "              style=\"display:none;\">\n",
              "        \n",
              "  <svg xmlns=\"http://www.w3.org/2000/svg\" height=\"24px\"viewBox=\"0 0 24 24\"\n",
              "       width=\"24px\">\n",
              "    <path d=\"M0 0h24v24H0V0z\" fill=\"none\"/>\n",
              "    <path d=\"M18.56 5.44l.94 2.06.94-2.06 2.06-.94-2.06-.94-.94-2.06-.94 2.06-2.06.94zm-11 1L8.5 8.5l.94-2.06 2.06-.94-2.06-.94L8.5 2.5l-.94 2.06-2.06.94zm10 10l.94 2.06.94-2.06 2.06-.94-2.06-.94-.94-2.06-.94 2.06-2.06.94z\"/><path d=\"M17.41 7.96l-1.37-1.37c-.4-.4-.92-.59-1.43-.59-.52 0-1.04.2-1.43.59L10.3 9.45l-7.72 7.72c-.78.78-.78 2.05 0 2.83L4 21.41c.39.39.9.59 1.41.59.51 0 1.02-.2 1.41-.59l7.78-7.78 2.81-2.81c.8-.78.8-2.07 0-2.86zM5.41 20L4 18.59l7.72-7.72 1.47 1.35L5.41 20z\"/>\n",
              "  </svg>\n",
              "      </button>\n",
              "      \n",
              "  <style>\n",
              "    .colab-df-container {\n",
              "      display:flex;\n",
              "      flex-wrap:wrap;\n",
              "      gap: 12px;\n",
              "    }\n",
              "\n",
              "    .colab-df-convert {\n",
              "      background-color: #E8F0FE;\n",
              "      border: none;\n",
              "      border-radius: 50%;\n",
              "      cursor: pointer;\n",
              "      display: none;\n",
              "      fill: #1967D2;\n",
              "      height: 32px;\n",
              "      padding: 0 0 0 0;\n",
              "      width: 32px;\n",
              "    }\n",
              "\n",
              "    .colab-df-convert:hover {\n",
              "      background-color: #E2EBFA;\n",
              "      box-shadow: 0px 1px 2px rgba(60, 64, 67, 0.3), 0px 1px 3px 1px rgba(60, 64, 67, 0.15);\n",
              "      fill: #174EA6;\n",
              "    }\n",
              "\n",
              "    [theme=dark] .colab-df-convert {\n",
              "      background-color: #3B4455;\n",
              "      fill: #D2E3FC;\n",
              "    }\n",
              "\n",
              "    [theme=dark] .colab-df-convert:hover {\n",
              "      background-color: #434B5C;\n",
              "      box-shadow: 0px 1px 3px 1px rgba(0, 0, 0, 0.15);\n",
              "      filter: drop-shadow(0px 1px 2px rgba(0, 0, 0, 0.3));\n",
              "      fill: #FFFFFF;\n",
              "    }\n",
              "  </style>\n",
              "\n",
              "      <script>\n",
              "        const buttonEl =\n",
              "          document.querySelector('#df-2915384b-97ba-4810-a1c0-e83b11d5de63 button.colab-df-convert');\n",
              "        buttonEl.style.display =\n",
              "          google.colab.kernel.accessAllowed ? 'block' : 'none';\n",
              "\n",
              "        async function convertToInteractive(key) {\n",
              "          const element = document.querySelector('#df-2915384b-97ba-4810-a1c0-e83b11d5de63');\n",
              "          const dataTable =\n",
              "            await google.colab.kernel.invokeFunction('convertToInteractive',\n",
              "                                                     [key], {});\n",
              "          if (!dataTable) return;\n",
              "\n",
              "          const docLinkHtml = 'Like what you see? Visit the ' +\n",
              "            '<a target=\"_blank\" href=https://colab.research.google.com/notebooks/data_table.ipynb>data table notebook</a>'\n",
              "            + ' to learn more about interactive tables.';\n",
              "          element.innerHTML = '';\n",
              "          dataTable['output_type'] = 'display_data';\n",
              "          await google.colab.output.renderOutput(dataTable, element);\n",
              "          const docLink = document.createElement('div');\n",
              "          docLink.innerHTML = docLinkHtml;\n",
              "          element.appendChild(docLink);\n",
              "        }\n",
              "      </script>\n",
              "    </div>\n",
              "  </div>\n",
              "  "
            ]
          },
          "metadata": {},
          "execution_count": 16
        }
      ]
    },
    {
      "cell_type": "code",
      "source": [
        "test.describe()"
      ],
      "metadata": {
        "colab": {
          "base_uri": "https://localhost:8080/",
          "height": 295
        },
        "id": "HM4lqGuIAz4d",
        "outputId": "b05105e4-9737-4218-fbe2-1864f706f674"
      },
      "execution_count": 17,
      "outputs": [
        {
          "output_type": "execute_result",
          "data": {
            "text/plain": [
              "       PassengerId      Pclass         Age       SibSp       Parch        Fare\n",
              "count   418.000000  418.000000  418.000000  418.000000  418.000000  418.000000\n",
              "mean   1100.500000    2.265550   27.018089    0.447368    0.392344   35.576535\n",
              "std     120.810458    0.841838   14.163993    0.896760    0.981429   55.850103\n",
              "min     892.000000    1.000000    0.170000    0.000000    0.000000    0.000000\n",
              "25%     996.250000    1.000000   14.454200    0.000000    0.000000    7.895800\n",
              "50%    1100.500000    3.000000   24.000000    0.000000    0.000000   14.454200\n",
              "75%    1204.750000    3.000000   35.750000    1.000000    0.000000   31.471875\n",
              "max    1309.000000    3.000000   76.000000    8.000000    9.000000  512.329200"
            ],
            "text/html": [
              "\n",
              "  <div id=\"df-48738a84-121d-4871-ae68-5ff3cbb7f9ec\">\n",
              "    <div class=\"colab-df-container\">\n",
              "      <div>\n",
              "<style scoped>\n",
              "    .dataframe tbody tr th:only-of-type {\n",
              "        vertical-align: middle;\n",
              "    }\n",
              "\n",
              "    .dataframe tbody tr th {\n",
              "        vertical-align: top;\n",
              "    }\n",
              "\n",
              "    .dataframe thead th {\n",
              "        text-align: right;\n",
              "    }\n",
              "</style>\n",
              "<table border=\"1\" class=\"dataframe\">\n",
              "  <thead>\n",
              "    <tr style=\"text-align: right;\">\n",
              "      <th></th>\n",
              "      <th>PassengerId</th>\n",
              "      <th>Pclass</th>\n",
              "      <th>Age</th>\n",
              "      <th>SibSp</th>\n",
              "      <th>Parch</th>\n",
              "      <th>Fare</th>\n",
              "    </tr>\n",
              "  </thead>\n",
              "  <tbody>\n",
              "    <tr>\n",
              "      <th>count</th>\n",
              "      <td>418.000000</td>\n",
              "      <td>418.000000</td>\n",
              "      <td>418.000000</td>\n",
              "      <td>418.000000</td>\n",
              "      <td>418.000000</td>\n",
              "      <td>418.000000</td>\n",
              "    </tr>\n",
              "    <tr>\n",
              "      <th>mean</th>\n",
              "      <td>1100.500000</td>\n",
              "      <td>2.265550</td>\n",
              "      <td>27.018089</td>\n",
              "      <td>0.447368</td>\n",
              "      <td>0.392344</td>\n",
              "      <td>35.576535</td>\n",
              "    </tr>\n",
              "    <tr>\n",
              "      <th>std</th>\n",
              "      <td>120.810458</td>\n",
              "      <td>0.841838</td>\n",
              "      <td>14.163993</td>\n",
              "      <td>0.896760</td>\n",
              "      <td>0.981429</td>\n",
              "      <td>55.850103</td>\n",
              "    </tr>\n",
              "    <tr>\n",
              "      <th>min</th>\n",
              "      <td>892.000000</td>\n",
              "      <td>1.000000</td>\n",
              "      <td>0.170000</td>\n",
              "      <td>0.000000</td>\n",
              "      <td>0.000000</td>\n",
              "      <td>0.000000</td>\n",
              "    </tr>\n",
              "    <tr>\n",
              "      <th>25%</th>\n",
              "      <td>996.250000</td>\n",
              "      <td>1.000000</td>\n",
              "      <td>14.454200</td>\n",
              "      <td>0.000000</td>\n",
              "      <td>0.000000</td>\n",
              "      <td>7.895800</td>\n",
              "    </tr>\n",
              "    <tr>\n",
              "      <th>50%</th>\n",
              "      <td>1100.500000</td>\n",
              "      <td>3.000000</td>\n",
              "      <td>24.000000</td>\n",
              "      <td>0.000000</td>\n",
              "      <td>0.000000</td>\n",
              "      <td>14.454200</td>\n",
              "    </tr>\n",
              "    <tr>\n",
              "      <th>75%</th>\n",
              "      <td>1204.750000</td>\n",
              "      <td>3.000000</td>\n",
              "      <td>35.750000</td>\n",
              "      <td>1.000000</td>\n",
              "      <td>0.000000</td>\n",
              "      <td>31.471875</td>\n",
              "    </tr>\n",
              "    <tr>\n",
              "      <th>max</th>\n",
              "      <td>1309.000000</td>\n",
              "      <td>3.000000</td>\n",
              "      <td>76.000000</td>\n",
              "      <td>8.000000</td>\n",
              "      <td>9.000000</td>\n",
              "      <td>512.329200</td>\n",
              "    </tr>\n",
              "  </tbody>\n",
              "</table>\n",
              "</div>\n",
              "      <button class=\"colab-df-convert\" onclick=\"convertToInteractive('df-48738a84-121d-4871-ae68-5ff3cbb7f9ec')\"\n",
              "              title=\"Convert this dataframe to an interactive table.\"\n",
              "              style=\"display:none;\">\n",
              "        \n",
              "  <svg xmlns=\"http://www.w3.org/2000/svg\" height=\"24px\"viewBox=\"0 0 24 24\"\n",
              "       width=\"24px\">\n",
              "    <path d=\"M0 0h24v24H0V0z\" fill=\"none\"/>\n",
              "    <path d=\"M18.56 5.44l.94 2.06.94-2.06 2.06-.94-2.06-.94-.94-2.06-.94 2.06-2.06.94zm-11 1L8.5 8.5l.94-2.06 2.06-.94-2.06-.94L8.5 2.5l-.94 2.06-2.06.94zm10 10l.94 2.06.94-2.06 2.06-.94-2.06-.94-.94-2.06-.94 2.06-2.06.94z\"/><path d=\"M17.41 7.96l-1.37-1.37c-.4-.4-.92-.59-1.43-.59-.52 0-1.04.2-1.43.59L10.3 9.45l-7.72 7.72c-.78.78-.78 2.05 0 2.83L4 21.41c.39.39.9.59 1.41.59.51 0 1.02-.2 1.41-.59l7.78-7.78 2.81-2.81c.8-.78.8-2.07 0-2.86zM5.41 20L4 18.59l7.72-7.72 1.47 1.35L5.41 20z\"/>\n",
              "  </svg>\n",
              "      </button>\n",
              "      \n",
              "  <style>\n",
              "    .colab-df-container {\n",
              "      display:flex;\n",
              "      flex-wrap:wrap;\n",
              "      gap: 12px;\n",
              "    }\n",
              "\n",
              "    .colab-df-convert {\n",
              "      background-color: #E8F0FE;\n",
              "      border: none;\n",
              "      border-radius: 50%;\n",
              "      cursor: pointer;\n",
              "      display: none;\n",
              "      fill: #1967D2;\n",
              "      height: 32px;\n",
              "      padding: 0 0 0 0;\n",
              "      width: 32px;\n",
              "    }\n",
              "\n",
              "    .colab-df-convert:hover {\n",
              "      background-color: #E2EBFA;\n",
              "      box-shadow: 0px 1px 2px rgba(60, 64, 67, 0.3), 0px 1px 3px 1px rgba(60, 64, 67, 0.15);\n",
              "      fill: #174EA6;\n",
              "    }\n",
              "\n",
              "    [theme=dark] .colab-df-convert {\n",
              "      background-color: #3B4455;\n",
              "      fill: #D2E3FC;\n",
              "    }\n",
              "\n",
              "    [theme=dark] .colab-df-convert:hover {\n",
              "      background-color: #434B5C;\n",
              "      box-shadow: 0px 1px 3px 1px rgba(0, 0, 0, 0.15);\n",
              "      filter: drop-shadow(0px 1px 2px rgba(0, 0, 0, 0.3));\n",
              "      fill: #FFFFFF;\n",
              "    }\n",
              "  </style>\n",
              "\n",
              "      <script>\n",
              "        const buttonEl =\n",
              "          document.querySelector('#df-48738a84-121d-4871-ae68-5ff3cbb7f9ec button.colab-df-convert');\n",
              "        buttonEl.style.display =\n",
              "          google.colab.kernel.accessAllowed ? 'block' : 'none';\n",
              "\n",
              "        async function convertToInteractive(key) {\n",
              "          const element = document.querySelector('#df-48738a84-121d-4871-ae68-5ff3cbb7f9ec');\n",
              "          const dataTable =\n",
              "            await google.colab.kernel.invokeFunction('convertToInteractive',\n",
              "                                                     [key], {});\n",
              "          if (!dataTable) return;\n",
              "\n",
              "          const docLinkHtml = 'Like what you see? Visit the ' +\n",
              "            '<a target=\"_blank\" href=https://colab.research.google.com/notebooks/data_table.ipynb>data table notebook</a>'\n",
              "            + ' to learn more about interactive tables.';\n",
              "          element.innerHTML = '';\n",
              "          dataTable['output_type'] = 'display_data';\n",
              "          await google.colab.output.renderOutput(dataTable, element);\n",
              "          const docLink = document.createElement('div');\n",
              "          docLink.innerHTML = docLinkHtml;\n",
              "          element.appendChild(docLink);\n",
              "        }\n",
              "      </script>\n",
              "    </div>\n",
              "  </div>\n",
              "  "
            ]
          },
          "metadata": {},
          "execution_count": 17
        }
      ]
    },
    {
      "cell_type": "code",
      "source": [
        "train.info"
      ],
      "metadata": {
        "colab": {
          "base_uri": "https://localhost:8080/"
        },
        "id": "Wh7wBSPvTJyA",
        "outputId": "b01f5458-8a1f-4ec4-d555-d080b8ee9ce2"
      },
      "execution_count": 18,
      "outputs": [
        {
          "output_type": "execute_result",
          "data": {
            "text/plain": [
              "<bound method DataFrame.info of      Survived  Pclass                                               Name  \\\n",
              "0           0       3                            Braund, Mr. Owen Harris   \n",
              "1           1       1  Cumings, Mrs. John Bradley (Florence Briggs Th...   \n",
              "2           1       3                             Heikkinen, Miss. Laina   \n",
              "3           1       1       Futrelle, Mrs. Jacques Heath (Lily May Peel)   \n",
              "4           0       3                           Allen, Mr. William Henry   \n",
              "..        ...     ...                                                ...   \n",
              "886         0       2                              Montvila, Rev. Juozas   \n",
              "887         1       1                       Graham, Miss. Margaret Edith   \n",
              "888         0       3           Johnston, Miss. Catherine Helen \"Carrie\"   \n",
              "889         1       1                              Behr, Mr. Karl Howell   \n",
              "890         0       3                                Dooley, Mr. Patrick   \n",
              "\n",
              "        Sex   Age  SibSp  Parch     Fare Embarked  \n",
              "0      male  22.0      1      0   7.2500        S  \n",
              "1    female  38.0      1      0  71.2833        C  \n",
              "2    female  26.0      0      0   7.9250        S  \n",
              "3    female  35.0      1      0  53.1000        S  \n",
              "4      male  35.0      0      0   8.0500        S  \n",
              "..      ...   ...    ...    ...      ...      ...  \n",
              "886    male  27.0      0      0  13.0000        S  \n",
              "887  female  19.0      0      0  30.0000        S  \n",
              "888  female  28.0      1      2  23.4500        S  \n",
              "889    male  26.0      0      0  30.0000        C  \n",
              "890    male  32.0      0      0   7.7500        Q  \n",
              "\n",
              "[889 rows x 9 columns]>"
            ]
          },
          "metadata": {},
          "execution_count": 18
        }
      ]
    },
    {
      "cell_type": "code",
      "source": [
        "test.info"
      ],
      "metadata": {
        "colab": {
          "base_uri": "https://localhost:8080/"
        },
        "id": "UazTkniZ0gHH",
        "outputId": "29ef3b24-c576-456b-8bc6-dfeccf739ce3"
      },
      "execution_count": 19,
      "outputs": [
        {
          "output_type": "execute_result",
          "data": {
            "text/plain": [
              "<bound method DataFrame.info of      PassengerId  Pclass                                          Name  \\\n",
              "0            892       3                              Kelly, Mr. James   \n",
              "1            893       3              Wilkes, Mrs. James (Ellen Needs)   \n",
              "2            894       2                     Myles, Mr. Thomas Francis   \n",
              "3            895       3                              Wirz, Mr. Albert   \n",
              "4            896       3  Hirvonen, Mrs. Alexander (Helga E Lindqvist)   \n",
              "..           ...     ...                                           ...   \n",
              "413         1305       3                            Spector, Mr. Woolf   \n",
              "414         1306       1                  Oliva y Ocana, Dona. Fermina   \n",
              "415         1307       3                  Saether, Mr. Simon Sivertsen   \n",
              "416         1308       3                           Ware, Mr. Frederick   \n",
              "417         1309       3                      Peter, Master. Michael J   \n",
              "\n",
              "        Sex      Age  SibSp  Parch      Fare Embarked  \n",
              "0      male  34.5000      0      0    7.8292        Q  \n",
              "1    female  47.0000      1      0    7.0000        S  \n",
              "2      male  62.0000      0      0    9.6875        Q  \n",
              "3      male  27.0000      0      0    8.6625        S  \n",
              "4    female  22.0000      1      1   12.2875        S  \n",
              "..      ...      ...    ...    ...       ...      ...  \n",
              "413    male  14.4542      0      0    8.0500        S  \n",
              "414  female  39.0000      0      0  108.9000        C  \n",
              "415    male  38.5000      0      0    7.2500        S  \n",
              "416    male  14.4542      0      0    8.0500        S  \n",
              "417    male  14.4542      1      1   22.3583        C  \n",
              "\n",
              "[418 rows x 9 columns]>"
            ]
          },
          "metadata": {},
          "execution_count": 19
        }
      ]
    },
    {
      "cell_type": "markdown",
      "source": [
        "**Feature \"Sex\"**"
      ],
      "metadata": {
        "id": "vLibRGqH3lFg"
      }
    },
    {
      "cell_type": "code",
      "source": [
        "#Rate of women who survived\n",
        "women = train.loc[train.Sex == 'female'][\"Survived\"]\n",
        "rate_women = sum(women)/len(women)\n",
        "print(\"% of women who survived:\", rate_women)\n",
        "\n",
        "#Rate of men who survived\n",
        "men = train.loc[train.Sex == 'male'][\"Survived\"]\n",
        "rate_men = sum(men)/len(men)\n",
        "print(\"% of men who survived:\", rate_men)\n",
        "\n",
        "#Data Visualization\n",
        "fig, (ax1, ax2) = plt.subplots(1, 2, figsize=(12,5))\n",
        "sns.pointplot(data=train, x=\"Sex\", y=\"Survived\", ax=ax1)\n",
        "sns.countplot(data=train, x=\"Sex\", hue=\"Survived\", ax=ax2)\n",
        "\n",
        "#creating the sex column as integer\n",
        "train[\"Sex\"] = train[\"Sex\"].map({\"male\" : 0, \"female\" : 1})\n",
        "test[\"Sex\"] = test[\"Sex\"].map({\"male\" : 0, \"female\" : 1})"
      ],
      "metadata": {
        "colab": {
          "base_uri": "https://localhost:8080/",
          "height": 368
        },
        "id": "i6XeYM87Zu64",
        "outputId": "1bf52271-b440-4748-9069-bca2a7fbcdac"
      },
      "execution_count": 29,
      "outputs": [
        {
          "output_type": "stream",
          "name": "stdout",
          "text": [
            "% of women who survived: 0.7403846153846154\n",
            "% of men who survived: 0.18890814558058924\n"
          ]
        },
        {
          "output_type": "display_data",
          "data": {
            "text/plain": [
              "<Figure size 864x360 with 2 Axes>"
            ],
            "image/png": "[encoded data removed]"
          },
          "metadata": {
            "needs_background": "light"
          }
        }
      ]
    },
    {
      "cell_type": "markdown",
      "source": [
        "Women are most likely to survive. So the variable sex interferes with survival"
      ],
      "metadata": {
        "id": "xwo41LF2XUae"
      }
    },
    {
      "cell_type": "markdown",
      "source": [
        "**Feature \"Name\"**"
      ],
      "metadata": {
        "id": "0B8TTq7E4Vc6"
      }
    },
    {
      "cell_type": "code",
      "source": [
        "#Names doesn't matter much, but the title associated with it may help.\n",
        "#Extract titles from names\n",
        "train['Title'] = train[\"Name\"].map(lambda name : name.split(\".\")[0].split(\" \")[-1])\n",
        "test['Title'] = test[\"Name\"].map(lambda name : name.split(\".\")[0].split(\" \")[-1])\n",
        "train[\"Title\"] = train[\"Title\"].map({\"Mr\" : \"Mr\", \"Mrs\" : \"Mrs\", \"Miss\" : \"Miss\", \"Master\" : \"Master\"})\n",
        "train[\"Title\"].fillna(\"Others\", inplace=True)\n",
        "test[\"Title\"] = test[\"Title\"].map({\"Mr\" : \"Mr\", \"Mrs\" : \"Mrs\", \"Miss\" : \"Miss\", \"Master\" : \"Master\"})\n",
        "test[\"Title\"].fillna(\"Others\", inplace=True)\n",
        "\n",
        "#Rate of Mr who survived\n",
        "mr = train.loc[train.Title == 'Mr'][\"Survived\"]\n",
        "rate_mr = sum(mr)/len(mr)\n",
        "print(\"% of mr who survived:\", rate_mr)\n",
        "\n",
        "\n",
        "#Rate of Mrs who survived\n",
        "mrs = train.loc[train.Title == 'Mrs'][\"Survived\"]\n",
        "rate_mrs = sum(mrs)/len(mrs)\n",
        "print(\"% of mrs who survived:\", rate_mrs)\n",
        "\n",
        "\n",
        "#Rate of Miss who survived\n",
        "miss = train.loc[train.Title == 'Miss'][\"Survived\"]\n",
        "rate_miss = sum(miss)/len(miss)\n",
        "print(\"% of miss who survived:\", rate_miss)\n",
        "\n",
        "\n",
        "#Rate of Master who survived\n",
        "master = train.loc[train.Title == 'Master'][\"Survived\"]\n",
        "rate_master = sum(master)/len(master)\n",
        "print(\"% of master who survived:\", rate_master)\n",
        "\n",
        "#Data Visualization\n",
        "fig, ax1 = plt.subplots(nrows=1, ncols=1, figsize=(15,8))\n",
        "sns.countplot(data=train, x=\"Title\", hue=\"Survived\", ax=ax1)\n",
        "\n",
        "#Creating the column title as integers \n",
        "train[\"Title\"] = train[\"Title\"].map({\"Mr\" : 0, \"Mrs\" : 1, \"Miss\" : 2, \"Master\" : 3, \"Others\" : 4})\n",
        "test[\"Title\"] = test[\"Title\"].map({\"Mr\" : 0, \"Mrs\" : 1, \"Miss\" : 2, \"Master\" : 3, \"Others\" : 4})\n",
        "\n",
        "#Drop the column Name as it's not needed anymore\n",
        "train.drop('Name', axis=1, inplace=True)\n",
        "test.drop('Name', axis=1, inplace=True)"
      ],
      "metadata": {
        "colab": {
          "base_uri": "https://localhost:8080/",
          "height": 564
        },
        "id": "f6e7FB-WXb-B",
        "outputId": "66d2b1f3-b866-4500-8283-724c30dae52a"
      },
      "execution_count": 30,
      "outputs": [
        {
          "output_type": "stream",
          "name": "stdout",
          "text": [
            "% of mr who survived: 0.15667311411992263\n",
            "% of mrs who survived: 0.7903225806451613\n",
            "% of miss who survived: 0.6961325966850829\n",
            "% of master who survived: 0.575\n"
          ]
        },
        {
          "output_type": "display_data",
          "data": {
            "text/plain": [
              "<Figure size 1080x576 with 1 Axes>"
            ],
            "image/png": "[encoded data removed]"
          },
          "metadata": {
            "needs_background": "light"
          }
        }
      ]
    },
    {
      "cell_type": "code",
      "source": [
        "train.dtypes"
      ],
      "metadata": {
        "colab": {
          "base_uri": "https://localhost:8080/"
        },
        "id": "LtdrwQL2C5wL",
        "outputId": "af67314b-e5de-48ec-ecb8-0b2e8d6527a0"
      },
      "execution_count": null,
      "outputs": [
        {
          "output_type": "execute_result",
          "data": {
            "text/plain": [
              "Survived         int64\n",
              "Pclass           int64\n",
              "Sex              int64\n",
              "SibSp            int64\n",
              "Parch            int64\n",
              "Fare           float64\n",
              "Embarked        object\n",
              "Died             int64\n",
              "Title            int64\n",
              "AgeCategory      int64\n",
              "Family          object\n",
              "FamilySize      object\n",
              "dtype: object"
            ]
          },
          "metadata": {},
          "execution_count": 64
        }
      ]
    },
    {
      "cell_type": "markdown",
      "source": [
        "This also proves that they were trying to save women rather than saving men."
      ],
      "metadata": {
        "id": "V5k6tEZy6Lpn"
      }
    },
    {
      "cell_type": "markdown",
      "source": [
        "**Feature \"Pclass\"**"
      ],
      "metadata": {
        "id": "yTzTrYX26qzp"
      }
    },
    {
      "cell_type": "code",
      "source": [
        "print(train.Pclass.unique())\n",
        "\n",
        "#Data Visualization\n",
        "fig, (ax1, ax2) = plt.subplots(nrows=1, ncols=2, figsize=(12,5))\n",
        "sns.pointplot(data=train, x=\"Pclass\", y=\"Survived\", ax=ax1)\n",
        "sns.countplot(data=train, x=\"Pclass\", hue=\"Survived\", ax=ax2)"
      ],
      "metadata": {
        "colab": {
          "base_uri": "https://localhost:8080/",
          "height": 368
        },
        "id": "moKX-9P64by9",
        "outputId": "937162fd-7e50-4bb3-e3b1-827b98675129"
      },
      "execution_count": 32,
      "outputs": [
        {
          "output_type": "stream",
          "name": "stdout",
          "text": [
            "[3 1 2]\n"
          ]
        },
        {
          "output_type": "execute_result",
          "data": {
            "text/plain": [
              "<matplotlib.axes._subplots.AxesSubplot at 0x7f6adb3e0070>"
            ]
          },
          "metadata": {},
          "execution_count": 32
        },
        {
          "output_type": "display_data",
          "data": {
            "text/plain": [
              "<Figure size 864x360 with 2 Axes>"
            ],
            "image/png": "[encoded data removed]"
          },
          "metadata": {
            "needs_background": "light"
          }
        }
      ]
    },
    {
      "cell_type": "markdown",
      "source": [
        "Those of class 3 mostly didn't survive. The class 3 represents the lower class."
      ],
      "metadata": {
        "id": "SYBTgFQSB0t_"
      }
    },
    {
      "cell_type": "markdown",
      "source": [
        "**Feature \"Age\"**"
      ],
      "metadata": {
        "id": "OCjtfLK3_ssp"
      }
    },
    {
      "cell_type": "code",
      "source": [
        "#Extracting the age categories from the column age\n",
        "train[\"AgeCategory\"] = \"Adult\"\n",
        "train[\"AgeCategory\"].loc[train[\"Age\"] < 18 ] = \"Child\"\n",
        "train[\"AgeCategory\"].loc[train[\"Age\"] > 50 ] = \"Old\"\n",
        "train[\"AgeCategory\"].loc[train[\"Age\"].isnull()] = \"Missing\"\n",
        "\n",
        "test[\"AgeCategory\"] = \"Adult\"\n",
        "test[\"AgeCategory\"].loc[test[\"Age\"] < 18 ] = \"Child\"\n",
        "test[\"AgeCategory\"].loc[test[\"Age\"] > 50 ] = \"Old\"\n",
        "test[\"AgeCategory\"].loc[test[\"Age\"].isnull()] = \"Missing\"\n",
        "\n",
        "\n",
        "#Data Visualization\n",
        "fig, (ax1, ax2) = plt.subplots(1, 2, figsize=(12,5))\n",
        "sns.barplot(data=train, x=\"AgeCategory\", y=\"Survived\", ax=ax1, order=[\"Child\", \"Adult\", \"Old\", \"MissingData\"])\n",
        "sns.countplot(data=train, x=\"AgeCategory\", hue=\"Survived\", ax=ax2, order=[\"Child\", \"Adult\", \"Old\", \"MissingData\"])\n",
        "\n",
        "#Creating the AgeCategory column as integer\n",
        "train[\"AgeCategory\"] = train[\"AgeCategory\"].map({\"Child\" : 0, \"Adult\" : 1, \"Old\" : 2, \"MissingData\" : 3})\n",
        "test[\"AgeCategory\"] = test[\"AgeCategory\"].map({\"Child\" : 0, \"Adult\" : 1, \"Old\" : 2, \"MissingData\" : 3})\n",
        "\n",
        "#Dropping Age as it's not needed anymore\n",
        "train.drop(\"Age\", axis=1, inplace=True)\n",
        "test.drop(\"Age\", axis=1, inplace=True)\n"
      ],
      "metadata": {
        "colab": {
          "base_uri": "https://localhost:8080/",
          "height": 418
        },
        "id": "2nhEkrjoAD_q",
        "outputId": "9c829a8c-f54a-4d84-b112-f0291bbf2290"
      },
      "execution_count": 33,
      "outputs": [
        {
          "output_type": "stream",
          "name": "stderr",
          "text": [
            "/usr/local/lib/python3.8/dist-packages/pandas/core/indexing.py:1732: SettingWithCopyWarning: \n",
            "A value is trying to be set on a copy of a slice from a DataFrame\n",
            "\n",
            "See the caveats in the documentation: https://pandas.pydata.org/pandas-docs/stable/user_guide/indexing.html#returning-a-view-versus-a-copy\n",
            "  self._setitem_single_block(indexer, value, name)\n"
          ]
        },
        {
          "output_type": "display_data",
          "data": {
            "text/plain": [
              "<Figure size 864x360 with 2 Axes>"
            ],
            "image/png": "[encoded data removed]"
          },
          "metadata": {
            "needs_background": "light"
          }
        }
      ]
    },
    {
      "cell_type": "markdown",
      "source": [
        "Most adults didn't make it. They were trying to save children at most."
      ],
      "metadata": {
        "id": "8zGRgz0HB7mM"
      }
    },
    {
      "cell_type": "markdown",
      "source": [
        "**Feature \"Family\"**"
      ],
      "metadata": {
        "id": "qEirZWXSCCeb"
      }
    },
    {
      "cell_type": "code",
      "source": [
        "#Creating the column family from both the columns SibSp and Parch\n",
        "#SipSp is Sibling/Spouse \n",
        "#Parch is Parent/Child\n",
        "train['Family'] = train['SibSp'] + train['Parch'] + 1\n",
        "\n",
        "#Getting the family size from Family\n",
        "train['FamilySize'] = train['Family']\n",
        "train['FamilySize'].loc[train['Family'] == 1] = \"Small\"\n",
        "train['FamilySize'].loc[train['Family'] > 1] = \"Medium\"\n",
        "train['FamilySize'].loc[train['Family'] > 5] = \"Large\"\n",
        "\n",
        "#We want to know whether the person is travelling alone or with family\n",
        "train['Family'].loc[train['Family'] > 1] = 'withFamily'\n",
        "train['Family'].loc[train['Family'] == 1] = 'Alone'\n",
        "\n",
        "\n",
        "test['Family'] = test['SibSp'] + test['Parch'] + 1\n",
        "test['FamilySize'] = test['Family']\n",
        "test['FamilySize'].loc[test['Family'] == 1] = \"Small\"\n",
        "test['FamilySize'].loc[test['Family'] > 1] = \"Medium\"\n",
        "test['FamilySize'].loc[test['Family'] > 5] = \"Large\"\n",
        "test['Family'].loc[test['Family'] > 1] = 'withFamily'\n",
        "test['Family'].loc[test['Family'] == 1] = 'Alone'\n",
        "\n",
        "#Data Visualization\n",
        "fig, (ax1, ax2) = plt.subplots(1, 2, figsize=(12,5))\n",
        "sns.barplot(data=train, x=\"Family\", y=\"Survived\", ax=ax1)\n",
        "sns.countplot(data=train, x=\"Family\", hue=\"Survived\", ax=ax2)\n",
        "fig, (ax3, ax4) = plt.subplots(1, 2, figsize=(12,5))\n",
        "sns.barplot(data=train, x=\"FamilySize\", y=\"Survived\", ax=ax3, order=[\"Small\", \"Medium\", \"Large\"])\n",
        "sns.countplot(data=train, x=\"FamilySize\", hue=\"Survived\", ax=ax4, order=[\"Small\", \"Medium\", \"Large\"])\n",
        "\n",
        "#Creating the family and family size columns as integers\n",
        "train[\"Family\"] = train[\"Family\"].map({\"Alone\" : 0, \"withFamily\" : 1})\n",
        "train[\"FamilySize\"] = train[\"FamilySize\"].map({\"Small\" : 0, \"Medium\" : 1, \"Large\" : 2})\n",
        "test[\"Family\"] = test[\"Family\"].map({\"Alone\" : 0, \"withFamily\" : 1})\n",
        "test[\"FamilySize\"] = test[\"FamilySize\"].map({\"Small\" : 0, \"Medium\" : 1, \"Large\" : 2})\n",
        "\n",
        "#Drop SibSp and Parch columns as they're not needed anymore\n",
        "train.drop([\"Parch\", \"SibSp\"], axis=1, inplace=True)\n",
        "test.drop([\"Parch\", \"SibSp\"], axis=1, inplace=True)"
      ],
      "metadata": {
        "colab": {
          "base_uri": "https://localhost:8080/",
          "height": 735
        },
        "id": "M-qZX1I3CB4F",
        "outputId": "8b081be9-ec79-415a-e1a0-8035bf86cfa2"
      },
      "execution_count": 34,
      "outputs": [
        {
          "output_type": "stream",
          "name": "stderr",
          "text": [
            "/usr/local/lib/python3.8/dist-packages/pandas/core/indexing.py:1732: SettingWithCopyWarning: \n",
            "A value is trying to be set on a copy of a slice from a DataFrame\n",
            "\n",
            "See the caveats in the documentation: https://pandas.pydata.org/pandas-docs/stable/user_guide/indexing.html#returning-a-view-versus-a-copy\n",
            "  self._setitem_single_block(indexer, value, name)\n"
          ]
        },
        {
          "output_type": "display_data",
          "data": {
            "text/plain": [
              "<Figure size 864x360 with 2 Axes>"
            ],
            "image/png": "[encoded data removed]"
          },
          "metadata": {
            "needs_background": "light"
          }
        },
        {
          "output_type": "display_data",
          "data": {
            "text/plain": [
              "<Figure size 864x360 with 2 Axes>"
            ],
            "image/png": "[encoded data removed]"
          },
          "metadata": {
            "needs_background": "light"
          }
        }
      ]
    },
    {
      "cell_type": "markdown",
      "source": [
        "We can see that people travelling alone or with small families tend less to survive."
      ],
      "metadata": {
        "id": "kjhufMdQE-2b"
      }
    },
    {
      "cell_type": "markdown",
      "source": [
        "**Feature \"Fare\"**"
      ],
      "metadata": {
        "id": "XD8_AxBDFJIX"
      }
    },
    {
      "cell_type": "code",
      "source": [
        "#Fare data contains some extreme values which can be normalized\n",
        "#Creating a new column normalizedFare\n",
        "scale = preprocessing.MinMaxScaler()\n",
        "train['normalizedFare'] = scale.fit_transform(train['Fare'].array.reshape(-1,1))\n",
        "test[\"normalizedFare\"] = scale.transform(test['Fare'].array.reshape(-1,1))\n",
        "\n",
        "#Data Visualization\n",
        "fig = plt.figure(figsize=(15,8))\n",
        "plt.hist([train[train[\"Survived\"]==0][\"normalizedFare\"], train[train[\"Survived\"]==1][\"normalizedFare\"]], stacked=True, bins=10, label=['Dead', 'Survived'])\n",
        "plt.xlabel(\"Normalized Fare Range\")\n",
        "plt.ylabel(\"Count\")\n",
        "plt.legend()\n",
        "\n",
        "#Dropping the fare column as it's not needed anymore\n",
        "train.drop(\"Fare\", axis=1, inplace=True)\n",
        "test.drop(\"Fare\", axis=1, inplace=True)"
      ],
      "metadata": {
        "colab": {
          "base_uri": "https://localhost:8080/",
          "height": 584
        },
        "id": "uqmILR3HFeGR",
        "outputId": "6b924a0e-d55c-4cf8-f820-38c3ff03089a"
      },
      "execution_count": 35,
      "outputs": [
        {
          "output_type": "stream",
          "name": "stderr",
          "text": [
            "/usr/local/lib/python3.8/dist-packages/numpy/core/fromnumeric.py:3208: VisibleDeprecationWarning: Creating an ndarray from ragged nested sequences (which is a list-or-tuple of lists-or-tuples-or ndarrays with different lengths or shapes) is deprecated. If you meant to do this, you must specify 'dtype=object' when creating the ndarray.\n",
            "  return asarray(a).size\n",
            "/usr/local/lib/python3.8/dist-packages/matplotlib/cbook/__init__.py:1376: VisibleDeprecationWarning: Creating an ndarray from ragged nested sequences (which is a list-or-tuple of lists-or-tuples-or ndarrays with different lengths or shapes) is deprecated. If you meant to do this, you must specify 'dtype=object' when creating the ndarray.\n",
            "  X = np.atleast_1d(X.T if isinstance(X, np.ndarray) else np.asarray(X))\n"
          ]
        },
        {
          "output_type": "display_data",
          "data": {
            "text/plain": [
              "<Figure size 1080x576 with 1 Axes>"
            ],
            "image/png": "[encoded data removed]"
          },
          "metadata": {
            "needs_background": "light"
          }
        }
      ]
    },
    {
      "cell_type": "markdown",
      "source": [
        "**Feature \"Embarked\"**"
      ],
      "metadata": {
        "id": "5JrFWI6RPsWv"
      }
    },
    {
      "cell_type": "code",
      "source": [
        "#Data Visualization\n",
        "fig, (ax1, ax2) = plt.subplots(1, 2, figsize=(12,5))\n",
        "sns.pointplot(data=train, x=\"Embarked\", y=\"Survived\", ax=ax1)\n",
        "sns.countplot(data=train, x=\"Embarked\", hue=\"Survived\", ax=ax2)\n",
        "\n",
        "#Change the embarked column into integers\n",
        "train[\"Embarked\"] = train[\"Embarked\"].map({\"S\" : 0, \"C\" : 1, \"Q\" : 2})\n",
        "test[\"Embarked\"] = test[\"Embarked\"].map({\"S\" : 0, \"C\" : 1, \"Q\" : 2})"
      ],
      "metadata": {
        "colab": {
          "base_uri": "https://localhost:8080/",
          "height": 334
        },
        "id": "kCFTj15tSO7B",
        "outputId": "d2903170-d35f-403f-b287-79f8378151aa"
      },
      "execution_count": 36,
      "outputs": [
        {
          "output_type": "display_data",
          "data": {
            "text/plain": [
              "<Figure size 864x360 with 2 Axes>"
            ],
            "image/png": "[encoded data removed]"
          },
          "metadata": {
            "needs_background": "light"
          }
        }
      ]
    },
    {
      "cell_type": "markdown",
      "source": [
        "Those who embarked from Southampton mostly didn't make it."
      ],
      "metadata": {
        "id": "RJMNgqMwHix4"
      }
    },
    {
      "cell_type": "markdown",
      "source": [
        "## **Model's Implementation**"
      ],
      "metadata": {
        "id": "XI9WOeinHry0"
      }
    },
    {
      "cell_type": "markdown",
      "source": [
        "### **Dividing the data into X_train and Y_train**\n",
        "\n"
      ],
      "metadata": {
        "id": "LfTiQnFcMT1U"
      }
    },
    {
      "cell_type": "code",
      "source": [
        "X_train = train.drop(\"Survived\", axis=1)\n",
        "Y_train = train[\"Survived\"]\n",
        "accuracy_dict={}\n",
        "\n",
        "print(X_train.shape)\n",
        "print(Y_train.shape)"
      ],
      "metadata": {
        "colab": {
          "base_uri": "https://localhost:8080/"
        },
        "id": "9KLqZUhmIt68",
        "outputId": "2d31bd97-17ac-475e-c487-e1b21dcc5b81"
      },
      "execution_count": 218,
      "outputs": [
        {
          "output_type": "stream",
          "name": "stdout",
          "text": [
            "(889, 8)\n",
            "(889,)\n"
          ]
        }
      ]
    },
    {
      "cell_type": "markdown",
      "source": [
        "### ***Logistic Regression***"
      ],
      "metadata": {
        "id": "fzuYUrqgQXBZ"
      }
    },
    {
      "cell_type": "markdown",
      "source": [
        "**Creating and training the model**"
      ],
      "metadata": {
        "id": "9H8A0Q3iQdZL"
      }
    },
    {
      "cell_type": "code",
      "source": [
        "#Definition of the logistic regression model\n",
        "lr=LogisticRegression()\n",
        "model=lr.fit(X_train,Y_train)"
      ],
      "metadata": {
        "id": "tKhFx0SAQh0T"
      },
      "execution_count": 219,
      "outputs": []
    },
    {
      "cell_type": "code",
      "source": [
        "#Creating predictions\n",
        "Y_train_predicted=model.predict(X_train)"
      ],
      "metadata": {
        "id": "GkCZDnKkQ6v1"
      },
      "execution_count": 220,
      "outputs": []
    },
    {
      "cell_type": "markdown",
      "source": [
        "**Model's Evaluation**"
      ],
      "metadata": {
        "id": "8uair8FnQ8Gh"
      }
    },
    {
      "cell_type": "code",
      "source": [
        "#Score\n",
        "score=model.score(X_train,Y_train)\n",
        "print(\"The model's score is :\",score)"
      ],
      "metadata": {
        "colab": {
          "base_uri": "https://localhost:8080/"
        },
        "id": "gVhMkaB7RD4i",
        "outputId": "2219331c-ead9-4b55-811a-9393ebb50978"
      },
      "execution_count": 221,
      "outputs": [
        {
          "output_type": "stream",
          "name": "stdout",
          "text": [
            "The model's score is : 0.8098987626546682\n"
          ]
        }
      ]
    },
    {
      "cell_type": "code",
      "source": [
        "#Comparing Y_train and Y_train_predicted\n",
        "mean=np.mean(Y_train_predicted == Y_train)\n",
        "print(\"The comparison betweeen Y_train and Y_train_predicted is :\",mean)"
      ],
      "metadata": {
        "colab": {
          "base_uri": "https://localhost:8080/"
        },
        "id": "bJ7Bx9gRRK73",
        "outputId": "95b2a6f0-282a-48ba-d0b8-82fe52e05bc2"
      },
      "execution_count": 224,
      "outputs": [
        {
          "output_type": "stream",
          "name": "stdout",
          "text": [
            "The comparison betweeen Y_train and Y_train_predicted is : 0.8098987626546682\n"
          ]
        }
      ]
    },
    {
      "cell_type": "code",
      "source": [
        "#Accuracy\n",
        "scores = cross_val_score(model, X_train, Y_train, cv=10)\n",
        "model_accuracy = scores.mean()\n",
        "print(\"Logistic Regression model's accuracy :\", model_accuracy)\n",
        "accuracy_dict[\"Logistic Regression\"] = model_accuracy\n",
        "print(accuracy_dict)"
      ],
      "metadata": {
        "colab": {
          "base_uri": "https://localhost:8080/"
        },
        "id": "pdADePTwRMDQ",
        "outputId": "ac539178-1a46-4f07-8d91-d5b31d62b5e0"
      },
      "execution_count": 223,
      "outputs": [
        {
          "output_type": "stream",
          "name": "stdout",
          "text": [
            "Logistic Regression model's accuracy : 0.8076608784473953\n",
            "{'Logistic Regression': 0.8076608784473953}\n"
          ]
        }
      ]
    },
    {
      "cell_type": "code",
      "source": [
        "#F1 Score\n",
        "f1score=f1_score(Y_train, Y_train_predicted, average='weighted')\n",
        "print(\"The model's f1 score is :\",f1score)"
      ],
      "metadata": {
        "colab": {
          "base_uri": "https://localhost:8080/"
        },
        "id": "2pm_j_G_ROq6",
        "outputId": "189d628f-ac48-4038-9095-a5ed34d4c6d8"
      },
      "execution_count": 225,
      "outputs": [
        {
          "output_type": "stream",
          "name": "stdout",
          "text": [
            "The model's f1 score is : 0.8086536272755862\n"
          ]
        }
      ]
    },
    {
      "cell_type": "code",
      "source": [
        "#Precision Score\n",
        "precisionscore=precision_score(Y_train, Y_train_predicted, average=\"weighted\")\n",
        "print(\"The model's precision score is :\",precisionscore)"
      ],
      "metadata": {
        "colab": {
          "base_uri": "https://localhost:8080/"
        },
        "id": "qo_hq_kORRy-",
        "outputId": "60fc4dea-c9e9-4083-d9d4-c1f160c6c487"
      },
      "execution_count": 226,
      "outputs": [
        {
          "output_type": "stream",
          "name": "stdout",
          "text": [
            "The model's precision score is : 0.8083560479704928\n"
          ]
        }
      ]
    },
    {
      "cell_type": "code",
      "source": [
        "#Recall Score\n",
        "recallscore=recall_score(Y_train, Y_train_predicted, average=\"weighted\")\n",
        "print(\"The model's recall score is :\",recallscore)"
      ],
      "metadata": {
        "colab": {
          "base_uri": "https://localhost:8080/"
        },
        "id": "PhV-4wDHRYA4",
        "outputId": "50afc512-5bfd-47ae-fb65-a05567cc9fea"
      },
      "execution_count": 227,
      "outputs": [
        {
          "output_type": "stream",
          "name": "stdout",
          "text": [
            "The model's recall score is : 0.8098987626546682\n"
          ]
        }
      ]
    },
    {
      "cell_type": "code",
      "source": [
        "#Confusion Matrix\n",
        "cm=confusion_matrix(Y_train,Y_train_predicted)\n",
        "print(\"The model's confusion matrix is :\")\n",
        "print(cm)"
      ],
      "metadata": {
        "colab": {
          "base_uri": "https://localhost:8080/"
        },
        "id": "fQ3bMnnNRgY7",
        "outputId": "b911de3d-9a69-48d1-ff51-3c3850aeb525"
      },
      "execution_count": 228,
      "outputs": [
        {
          "output_type": "stream",
          "name": "stdout",
          "text": [
            "The model's confusion matrix is :\n",
            "[[475  74]\n",
            " [ 95 245]]\n"
          ]
        }
      ]
    },
    {
      "cell_type": "markdown",
      "source": [
        "### **KNN**"
      ],
      "metadata": {
        "id": "53njFz2xRvhh"
      }
    },
    {
      "cell_type": "markdown",
      "source": [
        "**Creating and training the model**"
      ],
      "metadata": {
        "id": "aRb5JnyUR0Go"
      }
    },
    {
      "cell_type": "code",
      "source": [
        "#Definition of the KNN model\n",
        "#Cross-Validation\n",
        "accuracy = []\n",
        "k_value = []\n",
        "for k in range(3,int(np.sqrt(len(train)))):\n",
        "    kNN = KNeighborsClassifier(n_neighbors=k)\n",
        "    scores = cross_val_score(kNN, X_train, Y_train, cv=5)\n",
        "    accuracy.append(scores.mean())\n",
        "    k_value.append(k)\n",
        "\n",
        "#Maximum Accuracy\n",
        "print(\"Maximum Accuracy :\", max(accuracy))\n",
        "print(\"Value of K corresponding to maximum accuracy :\", k_value[accuracy.index(max(accuracy))])\n",
        "\n",
        "#Final value of K must correspond to maximum accuracy.\n",
        "KNN = KNeighborsClassifier(n_neighbors=k_value[accuracy.index(max(accuracy))])\n",
        "model=KNN.fit(X_train, Y_train)"
      ],
      "metadata": {
        "colab": {
          "base_uri": "https://localhost:8080/"
        },
        "id": "qJRQcU_oR2xt",
        "outputId": "c9b48ff4-a039-44a9-be0b-447cecd5dd44"
      },
      "execution_count": 229,
      "outputs": [
        {
          "output_type": "stream",
          "name": "stdout",
          "text": [
            "Maximum Accuracy : 0.8144163016568274\n",
            "Value of K corresponding to maximum accuracy : 10\n"
          ]
        }
      ]
    },
    {
      "cell_type": "code",
      "source": [
        "#Creating predictions\n",
        "Y_train_predicted=model.predict(X_train)"
      ],
      "metadata": {
        "id": "XKwCuqaKTRQj"
      },
      "execution_count": 230,
      "outputs": []
    },
    {
      "cell_type": "markdown",
      "source": [
        "**Model's Evaluation**"
      ],
      "metadata": {
        "id": "E6hXWZinS3VN"
      }
    },
    {
      "cell_type": "code",
      "source": [
        "#Score\n",
        "score=model.score(X_train,Y_train)\n",
        "print(\"The model's score is :\",score)"
      ],
      "metadata": {
        "colab": {
          "base_uri": "https://localhost:8080/"
        },
        "id": "B_VCt320S6vH",
        "outputId": "a6f71571-c995-47f8-d135-a9d6705b4f6f"
      },
      "execution_count": 213,
      "outputs": [
        {
          "output_type": "stream",
          "name": "stdout",
          "text": [
            "The model's score is : 0.8447694038245219\n"
          ]
        }
      ]
    },
    {
      "cell_type": "code",
      "source": [
        "#Comparing Y_train and Y_train_predicted\n",
        "mean=np.mean(Y_train_predicted == Y_train)\n",
        "print(\"The comparison betweeen Y_train and Y_train_predicted is :\",mean)"
      ],
      "metadata": {
        "colab": {
          "base_uri": "https://localhost:8080/"
        },
        "id": "zFFii0PMTOJa",
        "outputId": "db69fe46-cc30-4c3b-99c4-3a9f9f84798a"
      },
      "execution_count": 231,
      "outputs": [
        {
          "output_type": "stream",
          "name": "stdout",
          "text": [
            "The comparison betweeen Y_train and Y_train_predicted is : 0.8447694038245219\n"
          ]
        }
      ]
    },
    {
      "cell_type": "code",
      "source": [
        "#Accuracy\n",
        "scores = cross_val_score(model, X_train, Y_train, cv=10)\n",
        "model_accuracy = scores.mean()\n",
        "print(\"KNN model's Accuracy :\", model_accuracy)\n",
        "accuracy_dict[\"KNN\"] = model_accuracy\n",
        "print(accuracy_dict)"
      ],
      "metadata": {
        "colab": {
          "base_uri": "https://localhost:8080/"
        },
        "id": "a63SaSDoTVLI",
        "outputId": "5e3a326b-da68-4aae-dd51-451b9790c5c2"
      },
      "execution_count": 232,
      "outputs": [
        {
          "output_type": "stream",
          "name": "stdout",
          "text": [
            "KNN model's Accuracy : 0.8121552604698671\n",
            "{'Logistic Regression': 0.8076608784473953, 'KNN': 0.8121552604698671}\n"
          ]
        }
      ]
    },
    {
      "cell_type": "code",
      "source": [
        "#F1 Score\n",
        "f1score=f1_score(Y_train, Y_train_predicted, average='weighted')\n",
        "print(\"The model's f1 score is :\",f1score)"
      ],
      "metadata": {
        "colab": {
          "base_uri": "https://localhost:8080/"
        },
        "id": "2m590NvgVLMi",
        "outputId": "5f4e6c53-df66-41f4-f5cf-b8ec67c8997a"
      },
      "execution_count": 233,
      "outputs": [
        {
          "output_type": "stream",
          "name": "stdout",
          "text": [
            "The model's f1 score is : 0.8412797639806975\n"
          ]
        }
      ]
    },
    {
      "cell_type": "code",
      "source": [
        "#Precision Score\n",
        "precisionscore=precision_score(Y_train, Y_train_predicted, average=\"weighted\")\n",
        "print(\"The model's precision score is :\",precisionscore)"
      ],
      "metadata": {
        "colab": {
          "base_uri": "https://localhost:8080/"
        },
        "id": "XX0DZksiVe0i",
        "outputId": "2c45aaf6-ad3f-4603-c056-36a0403dbb1a"
      },
      "execution_count": 234,
      "outputs": [
        {
          "output_type": "stream",
          "name": "stdout",
          "text": [
            "The model's precision score is : 0.8463403281486366\n"
          ]
        }
      ]
    },
    {
      "cell_type": "code",
      "source": [
        "#Recall Score\n",
        "recallscore=recall_score(Y_train, Y_train_predicted, average=\"weighted\")\n",
        "print(\"The model's recall score is:\",recallscore)"
      ],
      "metadata": {
        "colab": {
          "base_uri": "https://localhost:8080/"
        },
        "id": "JY2ICJ2kViAV",
        "outputId": "68d7d336-5e7f-47c2-ef6b-749e43143eec"
      },
      "execution_count": 236,
      "outputs": [
        {
          "output_type": "stream",
          "name": "stdout",
          "text": [
            "The model's recall score is: 0.8447694038245219\n"
          ]
        }
      ]
    },
    {
      "cell_type": "code",
      "source": [
        "#Confusion Matrix\n",
        "cm=confusion_matrix(Y_train,Y_train_predicted)\n",
        "print(\"The model's confusion matrix is :\")\n",
        "print(cm)"
      ],
      "metadata": {
        "colab": {
          "base_uri": "https://localhost:8080/"
        },
        "id": "4tBbh1u1VkpJ",
        "outputId": "988b1ea8-b172-4a29-f908-c0663eb4ad77"
      },
      "execution_count": 237,
      "outputs": [
        {
          "output_type": "stream",
          "name": "stdout",
          "text": [
            "The model's confusion matrix is :\n",
            "[[510  39]\n",
            " [ 99 241]]\n"
          ]
        }
      ]
    },
    {
      "cell_type": "markdown",
      "source": [
        "### **SVM**"
      ],
      "metadata": {
        "id": "zZ06B1r-V1aO"
      }
    },
    {
      "cell_type": "markdown",
      "source": [
        "**Creating and training the model**"
      ],
      "metadata": {
        "id": "Rz51IrD4V4g-"
      }
    },
    {
      "cell_type": "code",
      "source": [
        "#Definition of the SVM model\n",
        "SVM = svm.SVC(kernel=\"linear\")\n",
        "model=SVM.fit(X_train,Y_train)"
      ],
      "metadata": {
        "id": "4skA2cHTV71q"
      },
      "execution_count": 238,
      "outputs": []
    },
    {
      "cell_type": "code",
      "source": [
        "#Creating predictions\n",
        "Y_train_predicted=model.predict(X_train)"
      ],
      "metadata": {
        "id": "P5QEHP8KWZsR"
      },
      "execution_count": 239,
      "outputs": []
    },
    {
      "cell_type": "markdown",
      "source": [
        "**Model's Evaluation**"
      ],
      "metadata": {
        "id": "32lbiMiuWk_o"
      }
    },
    {
      "cell_type": "code",
      "source": [
        "#Score\n",
        "score=model.score(X_train,Y_train)\n",
        "print(\"The model's score is :\", score)"
      ],
      "metadata": {
        "colab": {
          "base_uri": "https://localhost:8080/"
        },
        "id": "Yo80XmO8WnGX",
        "outputId": "707f7112-8bb5-4bc9-b8e5-f7201b06d480"
      },
      "execution_count": 135,
      "outputs": [
        {
          "output_type": "stream",
          "name": "stdout",
          "text": [
            "The model's score is : 0.796400449943757\n"
          ]
        }
      ]
    },
    {
      "cell_type": "code",
      "source": [
        "#Comparing Y_train and Y_train_predicted\n",
        "mean=np.mean(Y_train_predicted == Y_train)\n",
        "print(\"The comparison betweeen Y_train and Y_train_predicted is :\",mean)"
      ],
      "metadata": {
        "colab": {
          "base_uri": "https://localhost:8080/"
        },
        "id": "J_cif2S3WxP4",
        "outputId": "fbc16a47-0d41-43f3-ff48-9a4a8b307212"
      },
      "execution_count": 136,
      "outputs": [
        {
          "output_type": "stream",
          "name": "stdout",
          "text": [
            "The comparison betweeen Y_train and Y_train_predicted is : 0.796400449943757\n"
          ]
        }
      ]
    },
    {
      "cell_type": "code",
      "source": [
        "#Accuracy\n",
        "scores = cross_val_score(model, X_train, Y_train, cv=10)\n",
        "model_accuracy = scores.mean()\n",
        "print(\"SVM model's Accuracy :\", model_accuracy)\n",
        "accuracy_dict[\"SVM\"] = model_accuracy\n",
        "print(accuracy_dict)"
      ],
      "metadata": {
        "colab": {
          "base_uri": "https://localhost:8080/"
        },
        "id": "9XVIhMH_W9tg",
        "outputId": "604932b7-cb33-4aa0-c3f6-e64a3eba6109"
      },
      "execution_count": 240,
      "outputs": [
        {
          "output_type": "stream",
          "name": "stdout",
          "text": [
            "SVM model's Accuracy : 0.7963993871297241\n",
            "{'Logistic Regression': 0.8076608784473953, 'KNN': 0.8121552604698671, 'SVM': 0.7963993871297241}\n"
          ]
        }
      ]
    },
    {
      "cell_type": "code",
      "source": [
        "#F1 Score\n",
        "f1score=f1_score(Y_train, Y_train_predicted, average='weighted')\n",
        "print(\"The model's f1 score is :\",f1score)"
      ],
      "metadata": {
        "colab": {
          "base_uri": "https://localhost:8080/"
        },
        "id": "Onpgn-C7XZ0K",
        "outputId": "5bd96601-b1c0-40b7-f6f7-e5a9f58cfa36"
      },
      "execution_count": 138,
      "outputs": [
        {
          "output_type": "stream",
          "name": "stdout",
          "text": [
            "The model's f1 score is : 0.7928441382095547\n"
          ]
        }
      ]
    },
    {
      "cell_type": "code",
      "source": [
        "#Precision Score\n",
        "precisionscore=precision_score(Y_train, Y_train_predicted, average=\"weighted\")\n",
        "print(\"The model's precision score is :\",precisionscore)"
      ],
      "metadata": {
        "colab": {
          "base_uri": "https://localhost:8080/"
        },
        "id": "yzMb9FM7XjTI",
        "outputId": "4a2e3a12-82b1-4032-edd4-4e56f1e82c03"
      },
      "execution_count": 139,
      "outputs": [
        {
          "output_type": "stream",
          "name": "stdout",
          "text": [
            "The model's precision score is : 0.7944990718348947\n"
          ]
        }
      ]
    },
    {
      "cell_type": "code",
      "source": [
        "#Recall Score\n",
        "recallscore=recall_score(Y_train, Y_train_predicted, average=\"weighted\")\n",
        "print(\"The model's recall score is :\",recallscore)"
      ],
      "metadata": {
        "colab": {
          "base_uri": "https://localhost:8080/"
        },
        "id": "bc4f7R3YXro8",
        "outputId": "84f54815-159f-449c-9e4f-ccd6a06cc8c7"
      },
      "execution_count": 140,
      "outputs": [
        {
          "output_type": "stream",
          "name": "stdout",
          "text": [
            "The model's recall score is : 0.796400449943757\n"
          ]
        }
      ]
    },
    {
      "cell_type": "code",
      "source": [
        "#Confusion Matrix\n",
        "cm=confusion_matrix(Y_train,Y_train_predicted)\n",
        "print(\"The model's confusion matrix is :  \")\n",
        "print(cm)"
      ],
      "metadata": {
        "colab": {
          "base_uri": "https://localhost:8080/"
        },
        "id": "zJPRwEn1XzhO",
        "outputId": "a97e5008-5ff3-452e-fcf0-2af45532d0b5"
      },
      "execution_count": 143,
      "outputs": [
        {
          "output_type": "stream",
          "name": "stdout",
          "text": [
            "The model's confusion matrix is :  \n",
            "[[483  66]\n",
            " [115 225]]\n"
          ]
        }
      ]
    },
    {
      "cell_type": "markdown",
      "source": [
        "### **Decision Tree**"
      ],
      "metadata": {
        "id": "6gwtHyc0YMsP"
      }
    },
    {
      "cell_type": "markdown",
      "source": [
        "**Creating and training the model**"
      ],
      "metadata": {
        "id": "rzyJahMcYTJF"
      }
    },
    {
      "cell_type": "code",
      "source": [
        "#Definition of the Decision Tree model\n",
        "decisionTree = DecisionTreeClassifier()\n",
        "model=decisionTree.fit(X_train,Y_train)"
      ],
      "metadata": {
        "id": "DkotWpiuYUMr"
      },
      "execution_count": 244,
      "outputs": []
    },
    {
      "cell_type": "code",
      "source": [
        "#Creating predictions\n",
        "Y_train_predicted=model.predict(X_train)"
      ],
      "metadata": {
        "id": "d8CM-yNMYiCq"
      },
      "execution_count": 245,
      "outputs": []
    },
    {
      "cell_type": "markdown",
      "source": [
        "**Model's Evaluation**"
      ],
      "metadata": {
        "id": "9SAz-KCRYmE8"
      }
    },
    {
      "cell_type": "code",
      "source": [
        "#Score\n",
        "score=model.score(X_train,Y_train)\n",
        "print(\"The model's score is :\", score)"
      ],
      "metadata": {
        "colab": {
          "base_uri": "https://localhost:8080/"
        },
        "id": "Vt2I-X7dYoMQ",
        "outputId": "a61044bb-7baf-434f-f0c0-23f2c8d40fc6"
      },
      "execution_count": 147,
      "outputs": [
        {
          "output_type": "stream",
          "name": "stdout",
          "text": [
            "The model's score is : 0.9347581552305961\n"
          ]
        }
      ]
    },
    {
      "cell_type": "code",
      "source": [
        "#Comparing Y_train and Y_train_predicted\n",
        "mean=np.mean(Y_train_predicted == Y_train)\n",
        "print(\"The comparison betweeen Y_train and Y_train_predicted is :\",mean)"
      ],
      "metadata": {
        "colab": {
          "base_uri": "https://localhost:8080/"
        },
        "id": "GHOEstFNY8_n",
        "outputId": "e1ba6031-f0a6-4e3a-f908-28eae40b2022"
      },
      "execution_count": 148,
      "outputs": [
        {
          "output_type": "stream",
          "name": "stdout",
          "text": [
            "The comparison betweeen Y_train and Y_train_predicted is : 0.9347581552305961\n"
          ]
        }
      ]
    },
    {
      "cell_type": "code",
      "source": [
        "#Accuracy\n",
        "scores = cross_val_score(model, X_train, Y_train, cv=10)\n",
        "model_accuracy = scores.mean()\n",
        "print(\"Decision Tree model's Accuracy :\", model_accuracy)\n",
        "accuracy_dict[\"Decision Tree\"] = model_accuracy\n",
        "print(accuracy_dict)"
      ],
      "metadata": {
        "colab": {
          "base_uri": "https://localhost:8080/"
        },
        "id": "d8j7qwQOY_vW",
        "outputId": "33998f69-a5ae-47a5-9824-1334aca8cd86"
      },
      "execution_count": 243,
      "outputs": [
        {
          "output_type": "stream",
          "name": "stdout",
          "text": [
            "Decision Tree model's Accuracy : 0.8121552604698671\n",
            "{'Logistic Regression': 0.8076608784473953, 'KNN': 0.8121552604698671, 'SVM': 0.7963993871297241, 'Decision Tree': 0.8121552604698671}\n"
          ]
        }
      ]
    },
    {
      "cell_type": "code",
      "source": [
        "#F1 Score\n",
        "f1score=f1_score(Y_train, Y_train_predicted, average='weighted')\n",
        "print(\"The model's f1 score is :\",f1score)"
      ],
      "metadata": {
        "colab": {
          "base_uri": "https://localhost:8080/"
        },
        "id": "BTd3VkbnZICh",
        "outputId": "fb16bb80-246b-4099-a10e-f1cd0f10e8f8"
      },
      "execution_count": 150,
      "outputs": [
        {
          "output_type": "stream",
          "name": "stdout",
          "text": [
            "The model's f1 score is : 0.9340710238162215\n"
          ]
        }
      ]
    },
    {
      "cell_type": "code",
      "source": [
        "#Precision Score\n",
        "precisionscore=precision_score(Y_train, Y_train_predicted, average=\"weighted\")\n",
        "print(\"The model's precision score is :\",precisionscore)"
      ],
      "metadata": {
        "colab": {
          "base_uri": "https://localhost:8080/"
        },
        "id": "A0ZXyAu3ZLPN",
        "outputId": "b9f0564b-3e10-4685-cfed-f033a138d9d8"
      },
      "execution_count": 151,
      "outputs": [
        {
          "output_type": "stream",
          "name": "stdout",
          "text": [
            "The model's precision score is : 0.9360268121703063\n"
          ]
        }
      ]
    },
    {
      "cell_type": "code",
      "source": [
        "#Recall Score\n",
        "recallscore=recall_score(Y_train, Y_train_predicted, average=\"weighted\")\n",
        "print(\"The model's recall score is :\",recallscore)"
      ],
      "metadata": {
        "colab": {
          "base_uri": "https://localhost:8080/"
        },
        "id": "43GHvGDCZWV1",
        "outputId": "33611b71-f59b-43f5-d4db-77a6a46feaa5"
      },
      "execution_count": 152,
      "outputs": [
        {
          "output_type": "stream",
          "name": "stdout",
          "text": [
            "The model's recall score is : 0.9347581552305961\n"
          ]
        }
      ]
    },
    {
      "cell_type": "code",
      "source": [
        "#Confusion Matrix\n",
        "cm=confusion_matrix(Y_train,Y_train_predicted)\n",
        "print(\"The model's confusion matrix is :  \")\n",
        "print(cm)"
      ],
      "metadata": {
        "colab": {
          "base_uri": "https://localhost:8080/"
        },
        "id": "abiPAjwAZZnV",
        "outputId": "6bee8b71-6552-44f2-8ef7-7d3ba22e6408"
      },
      "execution_count": 153,
      "outputs": [
        {
          "output_type": "stream",
          "name": "stdout",
          "text": [
            "The model's confusion matrix is :  \n",
            "[[536  13]\n",
            " [ 45 295]]\n"
          ]
        }
      ]
    },
    {
      "cell_type": "markdown",
      "source": [
        "### ***Random Forest***"
      ],
      "metadata": {
        "id": "4K2dPZlYP1Ul"
      }
    },
    {
      "cell_type": "markdown",
      "source": [
        "**Creating and training the model**"
      ],
      "metadata": {
        "id": "vyDWH4YUMepD"
      }
    },
    {
      "cell_type": "code",
      "source": [
        "#Definition of the Random Forest model\n",
        "randomforest=RandomForestClassifier(n_estimators=100)\n",
        "model=randomforest.fit(X_train, Y_train)"
      ],
      "metadata": {
        "id": "GQg6Pcl2JvUp"
      },
      "execution_count": 246,
      "outputs": []
    },
    {
      "cell_type": "code",
      "source": [
        "#Creating predictions\n",
        "Y_train_predicted=model.predict(X_train)"
      ],
      "metadata": {
        "id": "HcD7OS_xKbrU"
      },
      "execution_count": 247,
      "outputs": []
    },
    {
      "cell_type": "markdown",
      "source": [
        "**Model's Evaluation**"
      ],
      "metadata": {
        "id": "soViBbIWMjnh"
      }
    },
    {
      "cell_type": "code",
      "source": [
        "#Score\n",
        "score=model.score(X_train,Y_train)\n",
        "print(\"The model's score is :\",score)"
      ],
      "metadata": {
        "colab": {
          "base_uri": "https://localhost:8080/"
        },
        "id": "O6cL7_ytLiOi",
        "outputId": "b4de0a1c-9159-46dc-c518-85b8760c5d8a"
      },
      "execution_count": 248,
      "outputs": [
        {
          "output_type": "stream",
          "name": "stdout",
          "text": [
            "The model's score is : 0.9347581552305961\n"
          ]
        }
      ]
    },
    {
      "cell_type": "code",
      "source": [
        "#Comparing Y_train and Y_train_predicted\n",
        "mean=np.mean(Y_train_predicted == Y_train)\n",
        "print(\"The comparison betweeen Y_train and Y_train_predicted is :\",mean)"
      ],
      "metadata": {
        "colab": {
          "base_uri": "https://localhost:8080/"
        },
        "id": "6fXFthzhNWQH",
        "outputId": "d1cdd591-0c90-4b18-e2ba-3eabfbb047a5"
      },
      "execution_count": 249,
      "outputs": [
        {
          "output_type": "stream",
          "name": "stdout",
          "text": [
            "The comparison betweeen Y_train and Y_train_predicted is : 0.9347581552305961\n"
          ]
        }
      ]
    },
    {
      "cell_type": "code",
      "source": [
        "#Accuracy\n",
        "scores = cross_val_score(model, X_train, Y_train, cv=10)\n",
        "model_accuracy = scores.mean()\n",
        "print(\"Random Forest model's Accuracy :\", model_accuracy)\n",
        "accuracy_dict[\"RandomForest\"] = model_accuracy\n",
        "print(accuracy_dict)"
      ],
      "metadata": {
        "colab": {
          "base_uri": "https://localhost:8080/"
        },
        "id": "UziUb0TRMMIl",
        "outputId": "dfb43e65-b17e-47f1-c011-17876082b3c5"
      },
      "execution_count": 250,
      "outputs": [
        {
          "output_type": "stream",
          "name": "stdout",
          "text": [
            "Random Forest model's Accuracy : 0.8166624106230849\n",
            "{'Logistic Regression': 0.8076608784473953, 'KNN': 0.8121552604698671, 'SVM': 0.7963993871297241, 'Decision Tree': 0.8121552604698671, 'RandomForest': 0.8166624106230849}\n"
          ]
        }
      ]
    },
    {
      "cell_type": "code",
      "source": [
        "#F1 Score\n",
        "f1score=f1_score(Y_train, Y_train_predicted, average='weighted')\n",
        "print(\"The model's f1 score is :\",f1score)"
      ],
      "metadata": {
        "colab": {
          "base_uri": "https://localhost:8080/"
        },
        "id": "QsLW22syNbx4",
        "outputId": "b54d9aa7-3ee4-495a-eaa0-73661f7eb029"
      },
      "execution_count": 251,
      "outputs": [
        {
          "output_type": "stream",
          "name": "stdout",
          "text": [
            "The model's f1 score is : 0.9343082542113846\n"
          ]
        }
      ]
    },
    {
      "cell_type": "code",
      "source": [
        "#Precision Score\n",
        "precisionscore=precision_score(Y_train, Y_train_predicted, average=\"weighted\")\n",
        "print(\"The model's precision score is :\",precisionscore)"
      ],
      "metadata": {
        "colab": {
          "base_uri": "https://localhost:8080/"
        },
        "id": "YWDYF0SSNj65",
        "outputId": "600944fd-d43a-4e3c-8c74-f0693a031a31"
      },
      "execution_count": 252,
      "outputs": [
        {
          "output_type": "stream",
          "name": "stdout",
          "text": [
            "The model's precision score is : 0.9350909705827135\n"
          ]
        }
      ]
    },
    {
      "cell_type": "code",
      "source": [
        "#Recall Score\n",
        "recallscore=recall_score(Y_train, Y_train_predicted, average=\"weighted\")\n",
        "print(\"The model's recall score is :\",recallscore)"
      ],
      "metadata": {
        "colab": {
          "base_uri": "https://localhost:8080/"
        },
        "id": "d54tAbokNoju",
        "outputId": "733895ed-797e-49f8-b684-c27d246e1391"
      },
      "execution_count": 253,
      "outputs": [
        {
          "output_type": "stream",
          "name": "stdout",
          "text": [
            "The model's recall score is : 0.9347581552305961\n"
          ]
        }
      ]
    },
    {
      "cell_type": "code",
      "source": [
        "#Confusion Matrix\n",
        "cm=confusion_matrix(Y_train,Y_train_predicted)\n",
        "print(\"The model's confusion matrix is :\")\n",
        "print(cm)"
      ],
      "metadata": {
        "colab": {
          "base_uri": "https://localhost:8080/"
        },
        "id": "mKtDonF3NwZ5",
        "outputId": "02415dcc-701d-42c0-fc2d-fa80c0d10234"
      },
      "execution_count": 254,
      "outputs": [
        {
          "output_type": "stream",
          "name": "stdout",
          "text": [
            "The model's confusion matrix is :\n",
            "[[531  18]\n",
            " [ 40 300]]\n"
          ]
        }
      ]
    },
    {
      "cell_type": "markdown",
      "source": [
        "### **Neural Networks**"
      ],
      "metadata": {
        "id": "UzDK9aTyaPHL"
      }
    },
    {
      "cell_type": "markdown",
      "source": [
        "**Creating and training the model**"
      ],
      "metadata": {
        "id": "rULTWuTAaUxL"
      }
    },
    {
      "cell_type": "code",
      "source": [
        "#Reshaping Y_train\n",
        "Y_train=to_categorical(Y_train)\n",
        "Y_train.shape\n",
        "Y_train=Y_train.reshape(889,-1)\n",
        "Y_train.shape"
      ],
      "metadata": {
        "colab": {
          "base_uri": "https://localhost:8080/"
        },
        "id": "kTI5CmSRcRoe",
        "outputId": "0911103b-97ee-4d33-9bd9-18d9a46b01a6"
      },
      "execution_count": 167,
      "outputs": [
        {
          "output_type": "execute_result",
          "data": {
            "text/plain": [
              "(889, 8)"
            ]
          },
          "metadata": {},
          "execution_count": 167
        }
      ]
    },
    {
      "cell_type": "code",
      "source": [
        "#Model's Architecture\n",
        "model=Sequential()\n",
        "model.add(Dense(512,input_shape=(8,)))\n",
        "model.add(Activation('relu'))\n",
        "model.add(Dense(8))\n",
        "model.add(Activation('sigmoid'))\n",
        "model.summary()"
      ],
      "metadata": {
        "colab": {
          "base_uri": "https://localhost:8080/"
        },
        "id": "iGuoiD10aXON",
        "outputId": "7a2b813c-94ca-46aa-dff2-372be168376e"
      },
      "execution_count": 170,
      "outputs": [
        {
          "output_type": "stream",
          "name": "stdout",
          "text": [
            "Model: \"sequential_6\"\n",
            "_________________________________________________________________\n",
            " Layer (type)                Output Shape              Param #   \n",
            "=================================================================\n",
            " dense_9 (Dense)             (None, 512)               4608      \n",
            "                                                                 \n",
            " activation_8 (Activation)   (None, 512)               0         \n",
            "                                                                 \n",
            " dense_10 (Dense)            (None, 8)                 4104      \n",
            "                                                                 \n",
            " activation_9 (Activation)   (None, 8)                 0         \n",
            "                                                                 \n",
            "=================================================================\n",
            "Total params: 8,712\n",
            "Trainable params: 8,712\n",
            "Non-trainable params: 0\n",
            "_________________________________________________________________\n"
          ]
        }
      ]
    },
    {
      "cell_type": "code",
      "source": [
        "#Compiling and fitting the model\n",
        "#After a test accuracy comparison between the optimizers rmsprop,adam and sgd , rmsprop has the highest test accuracy\n",
        "model.compile(optimizer='rmsprop', loss='categorical_crossentropy', metrics=['accuracy'])\n",
        "fit=model.fit(X_train,Y_train,epochs=10,batch_size=128)"
      ],
      "metadata": {
        "colab": {
          "base_uri": "https://localhost:8080/"
        },
        "id": "bdUiH6qHbkwU",
        "outputId": "335b578a-a9dd-4681-9116-a2c37f39418e"
      },
      "execution_count": 171,
      "outputs": [
        {
          "output_type": "stream",
          "name": "stdout",
          "text": [
            "Epoch 1/10\n",
            "7/7 [==============================] - 1s 5ms/step - loss: 8.2159 - accuracy: 0.0090\n",
            "Epoch 2/10\n",
            "7/7 [==============================] - 0s 5ms/step - loss: 8.0982 - accuracy: 0.0045\n",
            "Epoch 3/10\n",
            "7/7 [==============================] - 0s 3ms/step - loss: 8.0536 - accuracy: 0.0000e+00\n",
            "Epoch 4/10\n",
            "7/7 [==============================] - 0s 4ms/step - loss: 8.0461 - accuracy: 0.0000e+00\n",
            "Epoch 5/10\n",
            "7/7 [==============================] - 0s 3ms/step - loss: 8.0418 - accuracy: 0.0000e+00\n",
            "Epoch 6/10\n",
            "7/7 [==============================] - 0s 3ms/step - loss: 8.0682 - accuracy: 0.0000e+00\n",
            "Epoch 7/10\n",
            "7/7 [==============================] - 0s 3ms/step - loss: 8.0982 - accuracy: 0.0000e+00\n",
            "Epoch 8/10\n",
            "7/7 [==============================] - 0s 3ms/step - loss: 8.1165 - accuracy: 0.0000e+00\n",
            "Epoch 9/10\n",
            "7/7 [==============================] - 0s 3ms/step - loss: 8.1534 - accuracy: 0.0000e+00\n",
            "Epoch 10/10\n",
            "7/7 [==============================] - 0s 3ms/step - loss: 8.1681 - accuracy: 0.0000e+00\n"
          ]
        }
      ]
    },
    {
      "cell_type": "code",
      "source": [
        "Y_train_predicted=model.predict(X_train)"
      ],
      "metadata": {
        "colab": {
          "base_uri": "https://localhost:8080/"
        },
        "id": "tQMkTTRhfgLw",
        "outputId": "7af2d9f1-aca0-4275-ce26-a710f8af894d"
      },
      "execution_count": 183,
      "outputs": [
        {
          "output_type": "stream",
          "name": "stdout",
          "text": [
            "28/28 [==============================] - 0s 1ms/step\n"
          ]
        }
      ]
    },
    {
      "cell_type": "markdown",
      "source": [
        "**Model's Evaluation**"
      ],
      "metadata": {
        "id": "P2h_WJb_fzBb"
      }
    },
    {
      "cell_type": "code",
      "source": [
        "#Comparing Y_train and Y_train_predicted\n",
        "mean=np.mean(Y_train_predicted == Y_train)\n",
        "print(\"The comparison betweeen Y_train and Y_train_predicted is :\",mean)"
      ],
      "metadata": {
        "colab": {
          "base_uri": "https://localhost:8080/"
        },
        "id": "01NlQ40Xfufh",
        "outputId": "0f1ee224-3c52-43eb-a19c-08eeb5284e26"
      },
      "execution_count": 255,
      "outputs": [
        {
          "output_type": "stream",
          "name": "stdout",
          "text": [
            "The comparison betweeen Y_train and Y_train_predicted is : 0.9347581552305961\n"
          ]
        }
      ]
    },
    {
      "cell_type": "markdown",
      "source": [
        "### **Comparing the models**"
      ],
      "metadata": {
        "id": "CFw5IeqaZ6_c"
      }
    },
    {
      "cell_type": "code",
      "source": [
        "fig = plt.figure(figsize=(15,8))\n",
        "fig = sns.pointplot(y=list(accuracy_dict.values()), x=list(accuracy_dict.keys()))\n",
        "fig.set(ylabel=\"Accuracy\", xlabel=\"Maching Learning Methods\")"
      ],
      "metadata": {
        "colab": {
          "base_uri": "https://localhost:8080/",
          "height": 515
        },
        "id": "BozfXByMZ8a2",
        "outputId": "d30379cd-c560-49de-be3a-9dc15b4dfc59"
      },
      "execution_count": 199,
      "outputs": [
        {
          "output_type": "execute_result",
          "data": {
            "text/plain": [
              "[Text(0, 0.5, 'Accuracy'), Text(0.5, 0, 'Maching Learning Methods')]"
            ]
          },
          "metadata": {},
          "execution_count": 199
        },
        {
          "output_type": "display_data",
          "data": {
            "text/plain": [
              "<Figure size 1080x576 with 1 Axes>"
            ],
            "image/png": "[encoded data removed]"
          },
          "metadata": {
            "needs_background": "light"
          }
        }
      ]
    },
    {
      "cell_type": "markdown",
      "source": [
        "The accuracy scores provided by the different models are close. But we can see here that the model Random Forest has the best accuracy score and the model SVM has the worst one."
      ],
      "metadata": {
        "id": "S1hZp877mVEt"
      }
    }
  ]
}